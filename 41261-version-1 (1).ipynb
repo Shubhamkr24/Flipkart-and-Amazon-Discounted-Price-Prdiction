{
 "cells": [
  {
   "cell_type": "code",
   "execution_count": 1,
   "metadata": {
    "execution": {
     "iopub.execute_input": "2022-07-09T17:46:01.280921Z",
     "iopub.status.busy": "2022-07-09T17:46:01.280534Z",
     "iopub.status.idle": "2022-07-09T17:46:12.060835Z",
     "shell.execute_reply": "2022-07-09T17:46:12.059407Z",
     "shell.execute_reply.started": "2022-07-09T17:46:01.280891Z"
    }
   },
   "outputs": [
    {
     "name": "stdout",
     "output_type": "stream",
     "text": [
      "Defaulting to user installation because normal site-packages is not writeable\n",
      "Requirement already satisfied: opendatasets in c:\\users\\shubham\\appdata\\roaming\\python\\python39\\site-packages (0.1.22)\n",
      "Requirement already satisfied: tqdm in c:\\programdata\\anaconda3\\lib\\site-packages (from opendatasets) (4.64.0)\n",
      "Requirement already satisfied: click in c:\\programdata\\anaconda3\\lib\\site-packages (from opendatasets) (8.0.4)\n",
      "Requirement already satisfied: kaggle in c:\\users\\shubham\\appdata\\roaming\\python\\python39\\site-packages (from opendatasets) (1.5.12)\n",
      "Requirement already satisfied: colorama in c:\\programdata\\anaconda3\\lib\\site-packages (from click->opendatasets) (0.4.4)\n",
      "Requirement already satisfied: python-dateutil in c:\\programdata\\anaconda3\\lib\\site-packages (from kaggle->opendatasets) (2.8.2)\n",
      "Requirement already satisfied: six>=1.10 in c:\\programdata\\anaconda3\\lib\\site-packages (from kaggle->opendatasets) (1.16.0)\n",
      "Requirement already satisfied: certifi in c:\\programdata\\anaconda3\\lib\\site-packages (from kaggle->opendatasets) (2021.10.8)\n",
      "Requirement already satisfied: requests in c:\\programdata\\anaconda3\\lib\\site-packages (from kaggle->opendatasets) (2.27.1)\n",
      "Requirement already satisfied: urllib3 in c:\\programdata\\anaconda3\\lib\\site-packages (from kaggle->opendatasets) (1.26.9)\n",
      "Requirement already satisfied: python-slugify in c:\\programdata\\anaconda3\\lib\\site-packages (from kaggle->opendatasets) (5.0.2)\n",
      "Requirement already satisfied: text-unidecode>=1.3 in c:\\programdata\\anaconda3\\lib\\site-packages (from python-slugify->kaggle->opendatasets) (1.3)\n",
      "Requirement already satisfied: idna<4,>=2.5 in c:\\programdata\\anaconda3\\lib\\site-packages (from requests->kaggle->opendatasets) (3.3)\n",
      "Requirement already satisfied: charset-normalizer~=2.0.0 in c:\\programdata\\anaconda3\\lib\\site-packages (from requests->kaggle->opendatasets) (2.0.4)\n"
     ]
    }
   ],
   "source": [
    "!pip install opendatasets  "
   ]
  },
  {
   "cell_type": "markdown",
   "metadata": {},
   "source": [
    "# Import required libraries"
   ]
  },
  {
   "cell_type": "code",
   "execution_count": 2,
   "metadata": {
    "execution": {
     "iopub.execute_input": "2022-07-09T17:46:12.063436Z",
     "iopub.status.busy": "2022-07-09T17:46:12.063057Z",
     "iopub.status.idle": "2022-07-09T17:46:12.111802Z",
     "shell.execute_reply": "2022-07-09T17:46:12.110858Z",
     "shell.execute_reply.started": "2022-07-09T17:46:12.063400Z"
    }
   },
   "outputs": [],
   "source": [
    "import opendatasets as od\n",
    "import pandas as pd\n",
    "import numpy as np\n",
    "import matplotlib.pyplot as plt\n",
    "import seaborn as sns\n",
    "import os\n",
    "%matplotlib inline\n",
    "import warnings\n",
    "warnings.filterwarnings(\"ignore\")"
   ]
  },
  {
   "cell_type": "markdown",
   "metadata": {},
   "source": [
    "# Download and read the datasets"
   ]
  },
  {
   "cell_type": "code",
   "execution_count": 3,
   "metadata": {
    "execution": {
     "iopub.execute_input": "2022-07-09T17:46:12.114091Z",
     "iopub.status.busy": "2022-07-09T17:46:12.113158Z",
     "iopub.status.idle": "2022-07-09T17:46:45.093752Z",
     "shell.execute_reply": "2022-07-09T17:46:45.092632Z",
     "shell.execute_reply.started": "2022-07-09T17:46:12.114056Z"
    }
   },
   "outputs": [
    {
     "name": "stdout",
     "output_type": "stream",
     "text": [
      "Skipping, found downloaded files in \".\\sa2022\" (use force=True to force download)\n"
     ]
    }
   ],
   "source": [
    "od.download(\"https://www.kaggle.com/competitions/sa2022/data\")"
   ]
  },
  {
   "cell_type": "code",
   "execution_count": 4,
   "metadata": {
    "execution": {
     "iopub.execute_input": "2022-07-09T17:46:45.096413Z",
     "iopub.status.busy": "2022-07-09T17:46:45.096060Z",
     "iopub.status.idle": "2022-07-09T17:46:45.103458Z",
     "shell.execute_reply": "2022-07-09T17:46:45.102369Z",
     "shell.execute_reply.started": "2022-07-09T17:46:45.096384Z"
    }
   },
   "outputs": [
    {
     "data": {
      "text/plain": [
       "['Sample__submission.csv', 'test.csv', 'train.csv']"
      ]
     },
     "execution_count": 4,
     "metadata": {},
     "output_type": "execute_result"
    }
   ],
   "source": [
    "import os\n",
    "os.listdir(\"sa2022\")"
   ]
  },
  {
   "cell_type": "code",
   "execution_count": 5,
   "metadata": {
    "execution": {
     "iopub.execute_input": "2022-07-09T17:46:45.105600Z",
     "iopub.status.busy": "2022-07-09T17:46:45.104913Z",
     "iopub.status.idle": "2022-07-09T17:46:45.185587Z",
     "shell.execute_reply": "2022-07-09T17:46:45.184329Z",
     "shell.execute_reply.started": "2022-07-09T17:46:45.105559Z"
    }
   },
   "outputs": [],
   "source": [
    "sample_df=pd.read_csv(\"sa2022/Sample__submission.csv\")\n",
    "test_df=pd.read_csv(\"sa2022/test.csv\")\n",
    "train_df=pd.read_csv(\"sa2022/train.csv\")"
   ]
  },
  {
   "cell_type": "code",
   "execution_count": 6,
   "metadata": {
    "execution": {
     "iopub.execute_input": "2022-07-09T17:46:45.187251Z",
     "iopub.status.busy": "2022-07-09T17:46:45.186892Z",
     "iopub.status.idle": "2022-07-09T17:46:45.206593Z",
     "shell.execute_reply": "2022-07-09T17:46:45.205500Z",
     "shell.execute_reply.started": "2022-07-09T17:46:45.187220Z"
    }
   },
   "outputs": [
    {
     "data": {
      "text/html": [
       "<div>\n",
       "<style scoped>\n",
       "    .dataframe tbody tr th:only-of-type {\n",
       "        vertical-align: middle;\n",
       "    }\n",
       "\n",
       "    .dataframe tbody tr th {\n",
       "        vertical-align: top;\n",
       "    }\n",
       "\n",
       "    .dataframe thead th {\n",
       "        text-align: right;\n",
       "    }\n",
       "</style>\n",
       "<table border=\"1\" class=\"dataframe\">\n",
       "  <thead>\n",
       "    <tr style=\"text-align: right;\">\n",
       "      <th></th>\n",
       "      <th>id</th>\n",
       "      <th>price1</th>\n",
       "    </tr>\n",
       "  </thead>\n",
       "  <tbody>\n",
       "    <tr>\n",
       "      <th>0</th>\n",
       "      <td>19841</td>\n",
       "      <td>193</td>\n",
       "    </tr>\n",
       "    <tr>\n",
       "      <th>1</th>\n",
       "      <td>19157</td>\n",
       "      <td>340</td>\n",
       "    </tr>\n",
       "    <tr>\n",
       "      <th>2</th>\n",
       "      <td>19445</td>\n",
       "      <td>637</td>\n",
       "    </tr>\n",
       "    <tr>\n",
       "      <th>3</th>\n",
       "      <td>8046</td>\n",
       "      <td>679</td>\n",
       "    </tr>\n",
       "    <tr>\n",
       "      <th>4</th>\n",
       "      <td>4571</td>\n",
       "      <td>190</td>\n",
       "    </tr>\n",
       "    <tr>\n",
       "      <th>...</th>\n",
       "      <td>...</td>\n",
       "      <td>...</td>\n",
       "    </tr>\n",
       "    <tr>\n",
       "      <th>5239</th>\n",
       "      <td>14488</td>\n",
       "      <td>727</td>\n",
       "    </tr>\n",
       "    <tr>\n",
       "      <th>5240</th>\n",
       "      <td>6273</td>\n",
       "      <td>805</td>\n",
       "    </tr>\n",
       "    <tr>\n",
       "      <th>5241</th>\n",
       "      <td>12429</td>\n",
       "      <td>673</td>\n",
       "    </tr>\n",
       "    <tr>\n",
       "      <th>5242</th>\n",
       "      <td>8847</td>\n",
       "      <td>130</td>\n",
       "    </tr>\n",
       "    <tr>\n",
       "      <th>5243</th>\n",
       "      <td>18290</td>\n",
       "      <td>196</td>\n",
       "    </tr>\n",
       "  </tbody>\n",
       "</table>\n",
       "<p>5244 rows × 2 columns</p>\n",
       "</div>"
      ],
      "text/plain": [
       "         id  price1\n",
       "0     19841     193\n",
       "1     19157     340\n",
       "2     19445     637\n",
       "3      8046     679\n",
       "4      4571     190\n",
       "...     ...     ...\n",
       "5239  14488     727\n",
       "5240   6273     805\n",
       "5241  12429     673\n",
       "5242   8847     130\n",
       "5243  18290     196\n",
       "\n",
       "[5244 rows x 2 columns]"
      ]
     },
     "execution_count": 6,
     "metadata": {},
     "output_type": "execute_result"
    }
   ],
   "source": [
    "sample_df"
   ]
  },
  {
   "cell_type": "code",
   "execution_count": 7,
   "metadata": {
    "execution": {
     "iopub.execute_input": "2022-07-09T17:46:45.208135Z",
     "iopub.status.busy": "2022-07-09T17:46:45.207857Z",
     "iopub.status.idle": "2022-07-09T17:46:45.243568Z",
     "shell.execute_reply": "2022-07-09T17:46:45.242358Z",
     "shell.execute_reply.started": "2022-07-09T17:46:45.208111Z"
    }
   },
   "outputs": [
    {
     "data": {
      "text/html": [
       "<div>\n",
       "<style scoped>\n",
       "    .dataframe tbody tr th:only-of-type {\n",
       "        vertical-align: middle;\n",
       "    }\n",
       "\n",
       "    .dataframe tbody tr th {\n",
       "        vertical-align: top;\n",
       "    }\n",
       "\n",
       "    .dataframe thead th {\n",
       "        text-align: right;\n",
       "    }\n",
       "</style>\n",
       "<table border=\"1\" class=\"dataframe\">\n",
       "  <thead>\n",
       "    <tr style=\"text-align: right;\">\n",
       "      <th></th>\n",
       "      <th>id</th>\n",
       "      <th>title</th>\n",
       "      <th>Rating</th>\n",
       "      <th>maincateg</th>\n",
       "      <th>platform</th>\n",
       "      <th>price1</th>\n",
       "      <th>actprice1</th>\n",
       "      <th>Offer %</th>\n",
       "      <th>norating1</th>\n",
       "      <th>noreviews1</th>\n",
       "      <th>star_5f</th>\n",
       "      <th>star_4f</th>\n",
       "      <th>star_3f</th>\n",
       "      <th>star_2f</th>\n",
       "      <th>star_1f</th>\n",
       "      <th>fulfilled1</th>\n",
       "    </tr>\n",
       "  </thead>\n",
       "  <tbody>\n",
       "    <tr>\n",
       "      <th>0</th>\n",
       "      <td>16695</td>\n",
       "      <td>Fashionable &amp; Comfortable Bellies For Women  (...</td>\n",
       "      <td>3.9</td>\n",
       "      <td>Women</td>\n",
       "      <td>Flipkart</td>\n",
       "      <td>698</td>\n",
       "      <td>999</td>\n",
       "      <td>30.13%</td>\n",
       "      <td>38.0</td>\n",
       "      <td>7.0</td>\n",
       "      <td>17.0</td>\n",
       "      <td>9.0</td>\n",
       "      <td>6.0</td>\n",
       "      <td>3</td>\n",
       "      <td>3</td>\n",
       "      <td>0</td>\n",
       "    </tr>\n",
       "    <tr>\n",
       "      <th>1</th>\n",
       "      <td>5120</td>\n",
       "      <td>Combo Pack of 4 Casual Shoes Sneakers For Men ...</td>\n",
       "      <td>3.8</td>\n",
       "      <td>Men</td>\n",
       "      <td>Flipkart</td>\n",
       "      <td>999</td>\n",
       "      <td>1999</td>\n",
       "      <td>50.03%</td>\n",
       "      <td>531.0</td>\n",
       "      <td>69.0</td>\n",
       "      <td>264.0</td>\n",
       "      <td>92.0</td>\n",
       "      <td>73.0</td>\n",
       "      <td>29</td>\n",
       "      <td>73</td>\n",
       "      <td>1</td>\n",
       "    </tr>\n",
       "    <tr>\n",
       "      <th>2</th>\n",
       "      <td>18391</td>\n",
       "      <td>Cilia Mode Leo Sneakers For Women  (White)</td>\n",
       "      <td>4.4</td>\n",
       "      <td>Women</td>\n",
       "      <td>Flipkart</td>\n",
       "      <td>2749</td>\n",
       "      <td>4999</td>\n",
       "      <td>45.01%</td>\n",
       "      <td>17.0</td>\n",
       "      <td>4.0</td>\n",
       "      <td>11.0</td>\n",
       "      <td>3.0</td>\n",
       "      <td>2.0</td>\n",
       "      <td>1</td>\n",
       "      <td>0</td>\n",
       "      <td>1</td>\n",
       "    </tr>\n",
       "    <tr>\n",
       "      <th>3</th>\n",
       "      <td>495</td>\n",
       "      <td>Men Black Sports Sandal</td>\n",
       "      <td>4.2</td>\n",
       "      <td>Men</td>\n",
       "      <td>Flipkart</td>\n",
       "      <td>518</td>\n",
       "      <td>724</td>\n",
       "      <td>15.85%</td>\n",
       "      <td>46413.0</td>\n",
       "      <td>6229.0</td>\n",
       "      <td>1045.0</td>\n",
       "      <td>12416.0</td>\n",
       "      <td>5352.0</td>\n",
       "      <td>701</td>\n",
       "      <td>4595</td>\n",
       "      <td>1</td>\n",
       "    </tr>\n",
       "    <tr>\n",
       "      <th>4</th>\n",
       "      <td>16408</td>\n",
       "      <td>Men Green Sports Sandal</td>\n",
       "      <td>3.9</td>\n",
       "      <td>Men</td>\n",
       "      <td>Flipkart</td>\n",
       "      <td>1379</td>\n",
       "      <td>2299</td>\n",
       "      <td>40.02%</td>\n",
       "      <td>77.0</td>\n",
       "      <td>3.0</td>\n",
       "      <td>35.0</td>\n",
       "      <td>21.0</td>\n",
       "      <td>7.0</td>\n",
       "      <td>7</td>\n",
       "      <td>7</td>\n",
       "      <td>1</td>\n",
       "    </tr>\n",
       "    <tr>\n",
       "      <th>...</th>\n",
       "      <td>...</td>\n",
       "      <td>...</td>\n",
       "      <td>...</td>\n",
       "      <td>...</td>\n",
       "      <td>...</td>\n",
       "      <td>...</td>\n",
       "      <td>...</td>\n",
       "      <td>...</td>\n",
       "      <td>...</td>\n",
       "      <td>...</td>\n",
       "      <td>...</td>\n",
       "      <td>...</td>\n",
       "      <td>...</td>\n",
       "      <td>...</td>\n",
       "      <td>...</td>\n",
       "      <td>...</td>\n",
       "    </tr>\n",
       "    <tr>\n",
       "      <th>15725</th>\n",
       "      <td>16554</td>\n",
       "      <td>Women Maroon Heels Sandal</td>\n",
       "      <td>4.3</td>\n",
       "      <td>Women</td>\n",
       "      <td>Flipkart</td>\n",
       "      <td>567</td>\n",
       "      <td>1199</td>\n",
       "      <td>52.71%</td>\n",
       "      <td>807.0</td>\n",
       "      <td>114.0</td>\n",
       "      <td>485.0</td>\n",
       "      <td>177.0</td>\n",
       "      <td>61.0</td>\n",
       "      <td>41</td>\n",
       "      <td>43</td>\n",
       "      <td>0</td>\n",
       "    </tr>\n",
       "    <tr>\n",
       "      <th>15726</th>\n",
       "      <td>19600</td>\n",
       "      <td>Women Multicolor Flats Sandal</td>\n",
       "      <td>3.9</td>\n",
       "      <td>Women</td>\n",
       "      <td>Flipkart</td>\n",
       "      <td>499</td>\n",
       "      <td>998</td>\n",
       "      <td>50.00%</td>\n",
       "      <td>246.0</td>\n",
       "      <td>34.0</td>\n",
       "      <td>120.0</td>\n",
       "      <td>45.0</td>\n",
       "      <td>37.0</td>\n",
       "      <td>16</td>\n",
       "      <td>28</td>\n",
       "      <td>1</td>\n",
       "    </tr>\n",
       "    <tr>\n",
       "      <th>15727</th>\n",
       "      <td>6733</td>\n",
       "      <td>Women Navy Flats Sandal</td>\n",
       "      <td>3.7</td>\n",
       "      <td>Women</td>\n",
       "      <td>Flipkart</td>\n",
       "      <td>329</td>\n",
       "      <td>499</td>\n",
       "      <td>34.07%</td>\n",
       "      <td>NaN</td>\n",
       "      <td>18.0</td>\n",
       "      <td>NaN</td>\n",
       "      <td>NaN</td>\n",
       "      <td>20.0</td>\n",
       "      <td>10</td>\n",
       "      <td>15</td>\n",
       "      <td>1</td>\n",
       "    </tr>\n",
       "    <tr>\n",
       "      <th>15728</th>\n",
       "      <td>3889</td>\n",
       "      <td>Red Chief Men's Sneakers</td>\n",
       "      <td>3.9</td>\n",
       "      <td>Men</td>\n",
       "      <td>Amazon</td>\n",
       "      <td>2249</td>\n",
       "      <td>4499</td>\n",
       "      <td>50.01%</td>\n",
       "      <td>750.0</td>\n",
       "      <td>479.0</td>\n",
       "      <td>13.0</td>\n",
       "      <td>6.0</td>\n",
       "      <td>10.0</td>\n",
       "      <td>25</td>\n",
       "      <td>47</td>\n",
       "      <td>1</td>\n",
       "    </tr>\n",
       "    <tr>\n",
       "      <th>15729</th>\n",
       "      <td>13682</td>\n",
       "      <td>Slip On For Men  (Brown)</td>\n",
       "      <td>5.0</td>\n",
       "      <td>Men</td>\n",
       "      <td>Flipkart</td>\n",
       "      <td>1539</td>\n",
       "      <td>2799</td>\n",
       "      <td>45.02%</td>\n",
       "      <td>8.0</td>\n",
       "      <td>1.0</td>\n",
       "      <td>8.0</td>\n",
       "      <td>0.0</td>\n",
       "      <td>0.0</td>\n",
       "      <td>0</td>\n",
       "      <td>0</td>\n",
       "      <td>1</td>\n",
       "    </tr>\n",
       "  </tbody>\n",
       "</table>\n",
       "<p>15730 rows × 16 columns</p>\n",
       "</div>"
      ],
      "text/plain": [
       "          id                                              title  Rating  \\\n",
       "0      16695  Fashionable & Comfortable Bellies For Women  (...     3.9   \n",
       "1       5120  Combo Pack of 4 Casual Shoes Sneakers For Men ...     3.8   \n",
       "2      18391         Cilia Mode Leo Sneakers For Women  (White)     4.4   \n",
       "3        495                            Men Black Sports Sandal     4.2   \n",
       "4      16408                            Men Green Sports Sandal     3.9   \n",
       "...      ...                                                ...     ...   \n",
       "15725  16554                          Women Maroon Heels Sandal     4.3   \n",
       "15726  19600                      Women Multicolor Flats Sandal     3.9   \n",
       "15727   6733                            Women Navy Flats Sandal     3.7   \n",
       "15728   3889                           Red Chief Men's Sneakers     3.9   \n",
       "15729  13682                           Slip On For Men  (Brown)     5.0   \n",
       "\n",
       "      maincateg  platform  price1  actprice1 Offer %  norating1  noreviews1  \\\n",
       "0         Women  Flipkart     698        999  30.13%       38.0         7.0   \n",
       "1           Men  Flipkart     999       1999  50.03%      531.0        69.0   \n",
       "2         Women  Flipkart    2749       4999  45.01%       17.0         4.0   \n",
       "3           Men  Flipkart     518        724  15.85%    46413.0      6229.0   \n",
       "4           Men  Flipkart    1379       2299  40.02%       77.0         3.0   \n",
       "...         ...       ...     ...        ...     ...        ...         ...   \n",
       "15725     Women  Flipkart     567       1199  52.71%      807.0       114.0   \n",
       "15726     Women  Flipkart     499        998  50.00%      246.0        34.0   \n",
       "15727     Women  Flipkart     329        499  34.07%        NaN        18.0   \n",
       "15728       Men    Amazon    2249       4499  50.01%      750.0       479.0   \n",
       "15729       Men  Flipkart    1539       2799  45.02%        8.0         1.0   \n",
       "\n",
       "       star_5f  star_4f  star_3f  star_2f  star_1f  fulfilled1  \n",
       "0         17.0      9.0      6.0        3        3           0  \n",
       "1        264.0     92.0     73.0       29       73           1  \n",
       "2         11.0      3.0      2.0        1        0           1  \n",
       "3       1045.0  12416.0   5352.0      701     4595           1  \n",
       "4         35.0     21.0      7.0        7        7           1  \n",
       "...        ...      ...      ...      ...      ...         ...  \n",
       "15725    485.0    177.0     61.0       41       43           0  \n",
       "15726    120.0     45.0     37.0       16       28           1  \n",
       "15727      NaN      NaN     20.0       10       15           1  \n",
       "15728     13.0      6.0     10.0       25       47           1  \n",
       "15729      8.0      0.0      0.0        0        0           1  \n",
       "\n",
       "[15730 rows x 16 columns]"
      ]
     },
     "execution_count": 7,
     "metadata": {},
     "output_type": "execute_result"
    }
   ],
   "source": [
    "train_df"
   ]
  },
  {
   "cell_type": "code",
   "execution_count": 8,
   "metadata": {
    "execution": {
     "iopub.execute_input": "2022-07-09T17:46:45.245581Z",
     "iopub.status.busy": "2022-07-09T17:46:45.245200Z",
     "iopub.status.idle": "2022-07-09T17:46:45.273427Z",
     "shell.execute_reply": "2022-07-09T17:46:45.272375Z",
     "shell.execute_reply.started": "2022-07-09T17:46:45.245540Z"
    }
   },
   "outputs": [
    {
     "data": {
      "text/html": [
       "<div>\n",
       "<style scoped>\n",
       "    .dataframe tbody tr th:only-of-type {\n",
       "        vertical-align: middle;\n",
       "    }\n",
       "\n",
       "    .dataframe tbody tr th {\n",
       "        vertical-align: top;\n",
       "    }\n",
       "\n",
       "    .dataframe thead th {\n",
       "        text-align: right;\n",
       "    }\n",
       "</style>\n",
       "<table border=\"1\" class=\"dataframe\">\n",
       "  <thead>\n",
       "    <tr style=\"text-align: right;\">\n",
       "      <th></th>\n",
       "      <th>id</th>\n",
       "      <th>title</th>\n",
       "      <th>Rating</th>\n",
       "      <th>maincateg</th>\n",
       "      <th>platform</th>\n",
       "      <th>actprice1</th>\n",
       "      <th>norating1</th>\n",
       "      <th>noreviews1</th>\n",
       "      <th>star_5f</th>\n",
       "      <th>star_4f</th>\n",
       "      <th>star_3f</th>\n",
       "      <th>star_2f</th>\n",
       "      <th>star_1f</th>\n",
       "      <th>fulfilled1</th>\n",
       "    </tr>\n",
       "  </thead>\n",
       "  <tbody>\n",
       "    <tr>\n",
       "      <th>0</th>\n",
       "      <td>2242</td>\n",
       "      <td>Casuals For Men  (Blue)</td>\n",
       "      <td>3.8</td>\n",
       "      <td>Men</td>\n",
       "      <td>Flipkart</td>\n",
       "      <td>999</td>\n",
       "      <td>27928</td>\n",
       "      <td>3543</td>\n",
       "      <td>14238.0</td>\n",
       "      <td>4295</td>\n",
       "      <td>3457</td>\n",
       "      <td>1962</td>\n",
       "      <td>3976.0</td>\n",
       "      <td>1</td>\n",
       "    </tr>\n",
       "    <tr>\n",
       "      <th>1</th>\n",
       "      <td>20532</td>\n",
       "      <td>Women Black Flats Sandal</td>\n",
       "      <td>3.9</td>\n",
       "      <td>Women</td>\n",
       "      <td>Flipkart</td>\n",
       "      <td>499</td>\n",
       "      <td>3015</td>\n",
       "      <td>404</td>\n",
       "      <td>1458.0</td>\n",
       "      <td>657</td>\n",
       "      <td>397</td>\n",
       "      <td>182</td>\n",
       "      <td>321.0</td>\n",
       "      <td>1</td>\n",
       "    </tr>\n",
       "    <tr>\n",
       "      <th>2</th>\n",
       "      <td>10648</td>\n",
       "      <td>Women Gold Wedges Sandal</td>\n",
       "      <td>3.9</td>\n",
       "      <td>Women</td>\n",
       "      <td>Flipkart</td>\n",
       "      <td>999</td>\n",
       "      <td>449</td>\n",
       "      <td>52</td>\n",
       "      <td>229.0</td>\n",
       "      <td>70</td>\n",
       "      <td>71</td>\n",
       "      <td>33</td>\n",
       "      <td>46.0</td>\n",
       "      <td>1</td>\n",
       "    </tr>\n",
       "    <tr>\n",
       "      <th>3</th>\n",
       "      <td>20677</td>\n",
       "      <td>Men's Height Increasing High Heel Formal Party...</td>\n",
       "      <td>3.9</td>\n",
       "      <td>Men</td>\n",
       "      <td>Flipkart</td>\n",
       "      <td>2999</td>\n",
       "      <td>290</td>\n",
       "      <td>40</td>\n",
       "      <td>141.0</td>\n",
       "      <td>51</td>\n",
       "      <td>49</td>\n",
       "      <td>17</td>\n",
       "      <td>32.0</td>\n",
       "      <td>1</td>\n",
       "    </tr>\n",
       "    <tr>\n",
       "      <th>4</th>\n",
       "      <td>12593</td>\n",
       "      <td>Loafers For Men  (Tan)</td>\n",
       "      <td>3.9</td>\n",
       "      <td>Men</td>\n",
       "      <td>Flipkart</td>\n",
       "      <td>999</td>\n",
       "      <td>2423</td>\n",
       "      <td>326</td>\n",
       "      <td>1265.0</td>\n",
       "      <td>414</td>\n",
       "      <td>293</td>\n",
       "      <td>143</td>\n",
       "      <td>308.0</td>\n",
       "      <td>0</td>\n",
       "    </tr>\n",
       "    <tr>\n",
       "      <th>...</th>\n",
       "      <td>...</td>\n",
       "      <td>...</td>\n",
       "      <td>...</td>\n",
       "      <td>...</td>\n",
       "      <td>...</td>\n",
       "      <td>...</td>\n",
       "      <td>...</td>\n",
       "      <td>...</td>\n",
       "      <td>...</td>\n",
       "      <td>...</td>\n",
       "      <td>...</td>\n",
       "      <td>...</td>\n",
       "      <td>...</td>\n",
       "      <td>...</td>\n",
       "    </tr>\n",
       "    <tr>\n",
       "      <th>5239</th>\n",
       "      <td>14033</td>\n",
       "      <td>Women Off White Flats Sandal</td>\n",
       "      <td>NaN</td>\n",
       "      <td>Women</td>\n",
       "      <td>Flipkart</td>\n",
       "      <td>699</td>\n",
       "      <td>1235</td>\n",
       "      <td>153</td>\n",
       "      <td>NaN</td>\n",
       "      <td>323</td>\n",
       "      <td>155</td>\n",
       "      <td>62</td>\n",
       "      <td>NaN</td>\n",
       "      <td>1</td>\n",
       "    </tr>\n",
       "    <tr>\n",
       "      <th>5240</th>\n",
       "      <td>297</td>\n",
       "      <td>Slip On For Men  (Tan)</td>\n",
       "      <td>3.9</td>\n",
       "      <td>Men</td>\n",
       "      <td>Flipkart</td>\n",
       "      <td>1993</td>\n",
       "      <td>329</td>\n",
       "      <td>56</td>\n",
       "      <td>350.0</td>\n",
       "      <td>37</td>\n",
       "      <td>60</td>\n",
       "      <td>5</td>\n",
       "      <td>37.0</td>\n",
       "      <td>0</td>\n",
       "    </tr>\n",
       "    <tr>\n",
       "      <th>5241</th>\n",
       "      <td>18733</td>\n",
       "      <td>Women Grey Heels Sandal</td>\n",
       "      <td>3.8</td>\n",
       "      <td>Women</td>\n",
       "      <td>Flipkart</td>\n",
       "      <td>999</td>\n",
       "      <td>1280</td>\n",
       "      <td>135</td>\n",
       "      <td>574.0</td>\n",
       "      <td>290</td>\n",
       "      <td>172</td>\n",
       "      <td>94</td>\n",
       "      <td>150.0</td>\n",
       "      <td>0</td>\n",
       "    </tr>\n",
       "    <tr>\n",
       "      <th>5242</th>\n",
       "      <td>6162</td>\n",
       "      <td>Womens Casual Comfort Stylish Black High Heel ...</td>\n",
       "      <td>3.9</td>\n",
       "      <td>Women</td>\n",
       "      <td>Flipkart</td>\n",
       "      <td>499</td>\n",
       "      <td>4867</td>\n",
       "      <td>574</td>\n",
       "      <td>2384.0</td>\n",
       "      <td>974</td>\n",
       "      <td>648</td>\n",
       "      <td>328</td>\n",
       "      <td>533.0</td>\n",
       "      <td>0</td>\n",
       "    </tr>\n",
       "    <tr>\n",
       "      <th>5243</th>\n",
       "      <td>13574</td>\n",
       "      <td>ZAPATOZ Women's Casual PU Leather Sneaker Shoes</td>\n",
       "      <td>3.9</td>\n",
       "      <td>Women</td>\n",
       "      <td>Amazon</td>\n",
       "      <td>749</td>\n",
       "      <td>8</td>\n",
       "      <td>5</td>\n",
       "      <td>28.0</td>\n",
       "      <td>0</td>\n",
       "      <td>0</td>\n",
       "      <td>0</td>\n",
       "      <td>72.0</td>\n",
       "      <td>1</td>\n",
       "    </tr>\n",
       "  </tbody>\n",
       "</table>\n",
       "<p>5244 rows × 14 columns</p>\n",
       "</div>"
      ],
      "text/plain": [
       "         id                                              title  Rating  \\\n",
       "0      2242                            Casuals For Men  (Blue)     3.8   \n",
       "1     20532                           Women Black Flats Sandal     3.9   \n",
       "2     10648                           Women Gold Wedges Sandal     3.9   \n",
       "3     20677  Men's Height Increasing High Heel Formal Party...     3.9   \n",
       "4     12593                             Loafers For Men  (Tan)     3.9   \n",
       "...     ...                                                ...     ...   \n",
       "5239  14033                       Women Off White Flats Sandal     NaN   \n",
       "5240    297                             Slip On For Men  (Tan)     3.9   \n",
       "5241  18733                            Women Grey Heels Sandal     3.8   \n",
       "5242   6162  Womens Casual Comfort Stylish Black High Heel ...     3.9   \n",
       "5243  13574    ZAPATOZ Women's Casual PU Leather Sneaker Shoes     3.9   \n",
       "\n",
       "     maincateg  platform  actprice1  norating1  noreviews1  star_5f  star_4f  \\\n",
       "0          Men  Flipkart        999      27928        3543  14238.0     4295   \n",
       "1        Women  Flipkart        499       3015         404   1458.0      657   \n",
       "2        Women  Flipkart        999        449          52    229.0       70   \n",
       "3          Men  Flipkart       2999        290          40    141.0       51   \n",
       "4          Men  Flipkart        999       2423         326   1265.0      414   \n",
       "...        ...       ...        ...        ...         ...      ...      ...   \n",
       "5239     Women  Flipkart        699       1235         153      NaN      323   \n",
       "5240       Men  Flipkart       1993        329          56    350.0       37   \n",
       "5241     Women  Flipkart        999       1280         135    574.0      290   \n",
       "5242     Women  Flipkart        499       4867         574   2384.0      974   \n",
       "5243     Women    Amazon        749          8           5     28.0        0   \n",
       "\n",
       "      star_3f  star_2f  star_1f  fulfilled1  \n",
       "0        3457     1962   3976.0           1  \n",
       "1         397      182    321.0           1  \n",
       "2          71       33     46.0           1  \n",
       "3          49       17     32.0           1  \n",
       "4         293      143    308.0           0  \n",
       "...       ...      ...      ...         ...  \n",
       "5239      155       62      NaN           1  \n",
       "5240       60        5     37.0           0  \n",
       "5241      172       94    150.0           0  \n",
       "5242      648      328    533.0           0  \n",
       "5243        0        0     72.0           1  \n",
       "\n",
       "[5244 rows x 14 columns]"
      ]
     },
     "execution_count": 8,
     "metadata": {},
     "output_type": "execute_result"
    }
   ],
   "source": [
    "test_df"
   ]
  },
  {
   "cell_type": "markdown",
   "metadata": {},
   "source": [
    "# Information of datasets"
   ]
  },
  {
   "cell_type": "code",
   "execution_count": 9,
   "metadata": {
    "execution": {
     "iopub.execute_input": "2022-07-09T17:46:45.276060Z",
     "iopub.status.busy": "2022-07-09T17:46:45.275084Z",
     "iopub.status.idle": "2022-07-09T17:46:45.308648Z",
     "shell.execute_reply": "2022-07-09T17:46:45.307368Z",
     "shell.execute_reply.started": "2022-07-09T17:46:45.276015Z"
    }
   },
   "outputs": [
    {
     "name": "stdout",
     "output_type": "stream",
     "text": [
      "<class 'pandas.core.frame.DataFrame'>\n",
      "RangeIndex: 15730 entries, 0 to 15729\n",
      "Data columns (total 16 columns):\n",
      " #   Column      Non-Null Count  Dtype  \n",
      "---  ------      --------------  -----  \n",
      " 0   id          15730 non-null  int64  \n",
      " 1   title       15730 non-null  object \n",
      " 2   Rating      15730 non-null  float64\n",
      " 3   maincateg   15204 non-null  object \n",
      " 4   platform    15730 non-null  object \n",
      " 5   price1      15730 non-null  int64  \n",
      " 6   actprice1   15730 non-null  int64  \n",
      " 7   Offer %     15730 non-null  object \n",
      " 8   norating1   15052 non-null  float64\n",
      " 9   noreviews1  15152 non-null  float64\n",
      " 10  star_5f     15142 non-null  float64\n",
      " 11  star_4f     15191 non-null  float64\n",
      " 12  star_3f     15499 non-null  float64\n",
      " 13  star_2f     15730 non-null  int64  \n",
      " 14  star_1f     15730 non-null  int64  \n",
      " 15  fulfilled1  15730 non-null  int64  \n",
      "dtypes: float64(6), int64(6), object(4)\n",
      "memory usage: 1.9+ MB\n"
     ]
    }
   ],
   "source": [
    "train_df.info()"
   ]
  },
  {
   "cell_type": "markdown",
   "metadata": {},
   "source": [
    "# Check percentage of present null value"
   ]
  },
  {
   "cell_type": "code",
   "execution_count": 10,
   "metadata": {
    "execution": {
     "iopub.execute_input": "2022-07-09T17:46:45.314785Z",
     "iopub.status.busy": "2022-07-09T17:46:45.314426Z",
     "iopub.status.idle": "2022-07-09T17:46:45.334196Z",
     "shell.execute_reply": "2022-07-09T17:46:45.333417Z",
     "shell.execute_reply.started": "2022-07-09T17:46:45.314753Z"
    }
   },
   "outputs": [
    {
     "data": {
      "text/plain": [
       "id            0.000000\n",
       "title         0.000000\n",
       "Rating        0.000000\n",
       "maincateg     0.033439\n",
       "platform      0.000000\n",
       "price1        0.000000\n",
       "actprice1     0.000000\n",
       "Offer %       0.000000\n",
       "norating1     0.043102\n",
       "noreviews1    0.036745\n",
       "star_5f       0.037381\n",
       "star_4f       0.034266\n",
       "star_3f       0.014685\n",
       "star_2f       0.000000\n",
       "star_1f       0.000000\n",
       "fulfilled1    0.000000\n",
       "dtype: float64"
      ]
     },
     "execution_count": 10,
     "metadata": {},
     "output_type": "execute_result"
    }
   ],
   "source": [
    "train_df.isna().sum()/len(train_df)"
   ]
  },
  {
   "cell_type": "markdown",
   "metadata": {},
   "source": [
    "# Shape of datasets"
   ]
  },
  {
   "cell_type": "code",
   "execution_count": 11,
   "metadata": {
    "execution": {
     "iopub.execute_input": "2022-07-09T17:46:45.335841Z",
     "iopub.status.busy": "2022-07-09T17:46:45.335504Z",
     "iopub.status.idle": "2022-07-09T17:46:45.341875Z",
     "shell.execute_reply": "2022-07-09T17:46:45.340715Z",
     "shell.execute_reply.started": "2022-07-09T17:46:45.335811Z"
    }
   },
   "outputs": [
    {
     "data": {
      "text/plain": [
       "(15730, 16)"
      ]
     },
     "execution_count": 11,
     "metadata": {},
     "output_type": "execute_result"
    }
   ],
   "source": [
    "train_df.shape"
   ]
  },
  {
   "cell_type": "markdown",
   "metadata": {},
   "source": [
    "# Display Top 10 Row of datasets"
   ]
  },
  {
   "cell_type": "code",
   "execution_count": 12,
   "metadata": {
    "execution": {
     "iopub.execute_input": "2022-07-09T17:46:45.344355Z",
     "iopub.status.busy": "2022-07-09T17:46:45.343633Z",
     "iopub.status.idle": "2022-07-09T17:46:45.373117Z",
     "shell.execute_reply": "2022-07-09T17:46:45.372356Z",
     "shell.execute_reply.started": "2022-07-09T17:46:45.344289Z"
    }
   },
   "outputs": [
    {
     "data": {
      "text/html": [
       "<div>\n",
       "<style scoped>\n",
       "    .dataframe tbody tr th:only-of-type {\n",
       "        vertical-align: middle;\n",
       "    }\n",
       "\n",
       "    .dataframe tbody tr th {\n",
       "        vertical-align: top;\n",
       "    }\n",
       "\n",
       "    .dataframe thead th {\n",
       "        text-align: right;\n",
       "    }\n",
       "</style>\n",
       "<table border=\"1\" class=\"dataframe\">\n",
       "  <thead>\n",
       "    <tr style=\"text-align: right;\">\n",
       "      <th></th>\n",
       "      <th>id</th>\n",
       "      <th>title</th>\n",
       "      <th>Rating</th>\n",
       "      <th>maincateg</th>\n",
       "      <th>platform</th>\n",
       "      <th>price1</th>\n",
       "      <th>actprice1</th>\n",
       "      <th>Offer %</th>\n",
       "      <th>norating1</th>\n",
       "      <th>noreviews1</th>\n",
       "      <th>star_5f</th>\n",
       "      <th>star_4f</th>\n",
       "      <th>star_3f</th>\n",
       "      <th>star_2f</th>\n",
       "      <th>star_1f</th>\n",
       "      <th>fulfilled1</th>\n",
       "    </tr>\n",
       "  </thead>\n",
       "  <tbody>\n",
       "    <tr>\n",
       "      <th>0</th>\n",
       "      <td>16695</td>\n",
       "      <td>Fashionable &amp; Comfortable Bellies For Women  (...</td>\n",
       "      <td>3.9</td>\n",
       "      <td>Women</td>\n",
       "      <td>Flipkart</td>\n",
       "      <td>698</td>\n",
       "      <td>999</td>\n",
       "      <td>30.13%</td>\n",
       "      <td>38.0</td>\n",
       "      <td>7.0</td>\n",
       "      <td>17.0</td>\n",
       "      <td>9.0</td>\n",
       "      <td>6.0</td>\n",
       "      <td>3</td>\n",
       "      <td>3</td>\n",
       "      <td>0</td>\n",
       "    </tr>\n",
       "    <tr>\n",
       "      <th>1</th>\n",
       "      <td>5120</td>\n",
       "      <td>Combo Pack of 4 Casual Shoes Sneakers For Men ...</td>\n",
       "      <td>3.8</td>\n",
       "      <td>Men</td>\n",
       "      <td>Flipkart</td>\n",
       "      <td>999</td>\n",
       "      <td>1999</td>\n",
       "      <td>50.03%</td>\n",
       "      <td>531.0</td>\n",
       "      <td>69.0</td>\n",
       "      <td>264.0</td>\n",
       "      <td>92.0</td>\n",
       "      <td>73.0</td>\n",
       "      <td>29</td>\n",
       "      <td>73</td>\n",
       "      <td>1</td>\n",
       "    </tr>\n",
       "    <tr>\n",
       "      <th>2</th>\n",
       "      <td>18391</td>\n",
       "      <td>Cilia Mode Leo Sneakers For Women  (White)</td>\n",
       "      <td>4.4</td>\n",
       "      <td>Women</td>\n",
       "      <td>Flipkart</td>\n",
       "      <td>2749</td>\n",
       "      <td>4999</td>\n",
       "      <td>45.01%</td>\n",
       "      <td>17.0</td>\n",
       "      <td>4.0</td>\n",
       "      <td>11.0</td>\n",
       "      <td>3.0</td>\n",
       "      <td>2.0</td>\n",
       "      <td>1</td>\n",
       "      <td>0</td>\n",
       "      <td>1</td>\n",
       "    </tr>\n",
       "    <tr>\n",
       "      <th>3</th>\n",
       "      <td>495</td>\n",
       "      <td>Men Black Sports Sandal</td>\n",
       "      <td>4.2</td>\n",
       "      <td>Men</td>\n",
       "      <td>Flipkart</td>\n",
       "      <td>518</td>\n",
       "      <td>724</td>\n",
       "      <td>15.85%</td>\n",
       "      <td>46413.0</td>\n",
       "      <td>6229.0</td>\n",
       "      <td>1045.0</td>\n",
       "      <td>12416.0</td>\n",
       "      <td>5352.0</td>\n",
       "      <td>701</td>\n",
       "      <td>4595</td>\n",
       "      <td>1</td>\n",
       "    </tr>\n",
       "    <tr>\n",
       "      <th>4</th>\n",
       "      <td>16408</td>\n",
       "      <td>Men Green Sports Sandal</td>\n",
       "      <td>3.9</td>\n",
       "      <td>Men</td>\n",
       "      <td>Flipkart</td>\n",
       "      <td>1379</td>\n",
       "      <td>2299</td>\n",
       "      <td>40.02%</td>\n",
       "      <td>77.0</td>\n",
       "      <td>3.0</td>\n",
       "      <td>35.0</td>\n",
       "      <td>21.0</td>\n",
       "      <td>7.0</td>\n",
       "      <td>7</td>\n",
       "      <td>7</td>\n",
       "      <td>1</td>\n",
       "    </tr>\n",
       "    <tr>\n",
       "      <th>5</th>\n",
       "      <td>2692</td>\n",
       "      <td>Women Pink Flats Sandal</td>\n",
       "      <td>4.1</td>\n",
       "      <td>Women</td>\n",
       "      <td>Flipkart</td>\n",
       "      <td>359</td>\n",
       "      <td>499</td>\n",
       "      <td>28.06%</td>\n",
       "      <td>274.0</td>\n",
       "      <td>25.0</td>\n",
       "      <td>153.0</td>\n",
       "      <td>49.0</td>\n",
       "      <td>34.0</td>\n",
       "      <td>15</td>\n",
       "      <td>23</td>\n",
       "      <td>0</td>\n",
       "    </tr>\n",
       "    <tr>\n",
       "      <th>6</th>\n",
       "      <td>3236</td>\n",
       "      <td>Women Navy Heels Sandal</td>\n",
       "      <td>4.0</td>\n",
       "      <td>Women</td>\n",
       "      <td>Flipkart</td>\n",
       "      <td>499</td>\n",
       "      <td>999</td>\n",
       "      <td>50.05%</td>\n",
       "      <td>249.0</td>\n",
       "      <td>31.0</td>\n",
       "      <td>130.0</td>\n",
       "      <td>52.0</td>\n",
       "      <td>27.0</td>\n",
       "      <td>9</td>\n",
       "      <td>28</td>\n",
       "      <td>1</td>\n",
       "    </tr>\n",
       "    <tr>\n",
       "      <th>7</th>\n",
       "      <td>14633</td>\n",
       "      <td>Women Blue Wedges Sandal</td>\n",
       "      <td>3.9</td>\n",
       "      <td>Women</td>\n",
       "      <td>Flipkart</td>\n",
       "      <td>209</td>\n",
       "      <td>1299</td>\n",
       "      <td>83.91%</td>\n",
       "      <td>121.0</td>\n",
       "      <td>17.0</td>\n",
       "      <td>63.0</td>\n",
       "      <td>25.0</td>\n",
       "      <td>14.0</td>\n",
       "      <td>9</td>\n",
       "      <td>12</td>\n",
       "      <td>0</td>\n",
       "    </tr>\n",
       "    <tr>\n",
       "      <th>8</th>\n",
       "      <td>1872</td>\n",
       "      <td>Sneakers For Women  (Pink)</td>\n",
       "      <td>4.2</td>\n",
       "      <td>Women</td>\n",
       "      <td>Flipkart</td>\n",
       "      <td>549</td>\n",
       "      <td>999</td>\n",
       "      <td>45.05%</td>\n",
       "      <td>191.0</td>\n",
       "      <td>30.0</td>\n",
       "      <td>120.0</td>\n",
       "      <td>25.0</td>\n",
       "      <td>31.0</td>\n",
       "      <td>7</td>\n",
       "      <td>12</td>\n",
       "      <td>1</td>\n",
       "    </tr>\n",
       "    <tr>\n",
       "      <th>9</th>\n",
       "      <td>1668</td>\n",
       "      <td>Men Black, Beige Sandal</td>\n",
       "      <td>4.1</td>\n",
       "      <td>Men</td>\n",
       "      <td>Flipkart</td>\n",
       "      <td>809</td>\n",
       "      <td>899</td>\n",
       "      <td>10.01%</td>\n",
       "      <td>36126.0</td>\n",
       "      <td>5028.0</td>\n",
       "      <td>18688.0</td>\n",
       "      <td>9899.0</td>\n",
       "      <td>3709.0</td>\n",
       "      <td>1272</td>\n",
       "      <td>2558</td>\n",
       "      <td>0</td>\n",
       "    </tr>\n",
       "  </tbody>\n",
       "</table>\n",
       "</div>"
      ],
      "text/plain": [
       "      id                                              title  Rating maincateg  \\\n",
       "0  16695  Fashionable & Comfortable Bellies For Women  (...     3.9     Women   \n",
       "1   5120  Combo Pack of 4 Casual Shoes Sneakers For Men ...     3.8       Men   \n",
       "2  18391         Cilia Mode Leo Sneakers For Women  (White)     4.4     Women   \n",
       "3    495                            Men Black Sports Sandal     4.2       Men   \n",
       "4  16408                            Men Green Sports Sandal     3.9       Men   \n",
       "5   2692                            Women Pink Flats Sandal     4.1     Women   \n",
       "6   3236                            Women Navy Heels Sandal     4.0     Women   \n",
       "7  14633                           Women Blue Wedges Sandal     3.9     Women   \n",
       "8   1872                         Sneakers For Women  (Pink)     4.2     Women   \n",
       "9   1668                            Men Black, Beige Sandal     4.1       Men   \n",
       "\n",
       "   platform  price1  actprice1 Offer %  norating1  noreviews1  star_5f  \\\n",
       "0  Flipkart     698        999  30.13%       38.0         7.0     17.0   \n",
       "1  Flipkart     999       1999  50.03%      531.0        69.0    264.0   \n",
       "2  Flipkart    2749       4999  45.01%       17.0         4.0     11.0   \n",
       "3  Flipkart     518        724  15.85%    46413.0      6229.0   1045.0   \n",
       "4  Flipkart    1379       2299  40.02%       77.0         3.0     35.0   \n",
       "5  Flipkart     359        499  28.06%      274.0        25.0    153.0   \n",
       "6  Flipkart     499        999  50.05%      249.0        31.0    130.0   \n",
       "7  Flipkart     209       1299  83.91%      121.0        17.0     63.0   \n",
       "8  Flipkart     549        999  45.05%      191.0        30.0    120.0   \n",
       "9  Flipkart     809        899  10.01%    36126.0      5028.0  18688.0   \n",
       "\n",
       "   star_4f  star_3f  star_2f  star_1f  fulfilled1  \n",
       "0      9.0      6.0        3        3           0  \n",
       "1     92.0     73.0       29       73           1  \n",
       "2      3.0      2.0        1        0           1  \n",
       "3  12416.0   5352.0      701     4595           1  \n",
       "4     21.0      7.0        7        7           1  \n",
       "5     49.0     34.0       15       23           0  \n",
       "6     52.0     27.0        9       28           1  \n",
       "7     25.0     14.0        9       12           0  \n",
       "8     25.0     31.0        7       12           1  \n",
       "9   9899.0   3709.0     1272     2558           0  "
      ]
     },
     "execution_count": 12,
     "metadata": {},
     "output_type": "execute_result"
    }
   ],
   "source": [
    "train_df.head(10)"
   ]
  },
  {
   "cell_type": "markdown",
   "metadata": {},
   "source": [
    "# Top 10 maximum selling price of products"
   ]
  },
  {
   "cell_type": "code",
   "execution_count": 13,
   "metadata": {
    "execution": {
     "iopub.execute_input": "2022-07-09T17:46:45.375114Z",
     "iopub.status.busy": "2022-07-09T17:46:45.374702Z",
     "iopub.status.idle": "2022-07-09T17:46:45.386561Z",
     "shell.execute_reply": "2022-07-09T17:46:45.385202Z",
     "shell.execute_reply.started": "2022-07-09T17:46:45.375074Z"
    }
   },
   "outputs": [
    {
     "data": {
      "text/plain": [
       "4461     5998\n",
       "5975     5984\n",
       "10829    5801\n",
       "5821     5798\n",
       "7436     5756\n",
       "1375     5517\n",
       "6102     5517\n",
       "5601     5039\n",
       "931      5037\n",
       "8304     5037\n",
       "Name: price1, dtype: int64"
      ]
     },
     "execution_count": 13,
     "metadata": {},
     "output_type": "execute_result"
    }
   ],
   "source": [
    "train_df.price1.sort_values(ascending=False).head(10)"
   ]
  },
  {
   "cell_type": "markdown",
   "metadata": {},
   "source": [
    "# Top 10 maxinum actual price of product"
   ]
  },
  {
   "cell_type": "code",
   "execution_count": 14,
   "metadata": {
    "execution": {
     "iopub.execute_input": "2022-07-09T17:46:45.388428Z",
     "iopub.status.busy": "2022-07-09T17:46:45.388012Z",
     "iopub.status.idle": "2022-07-09T17:46:45.398516Z",
     "shell.execute_reply": "2022-07-09T17:46:45.397372Z",
     "shell.execute_reply.started": "2022-07-09T17:46:45.388386Z"
    }
   },
   "outputs": [
    {
     "data": {
      "text/plain": [
       "1624     13499\n",
       "5975     12999\n",
       "13554    10999\n",
       "7002      9600\n",
       "9385      9600\n",
       "6821      8999\n",
       "8010      8999\n",
       "6768      8999\n",
       "1301      8999\n",
       "2365      8999\n",
       "Name: actprice1, dtype: int64"
      ]
     },
     "execution_count": 14,
     "metadata": {},
     "output_type": "execute_result"
    }
   ],
   "source": [
    "train_df.actprice1.sort_values(ascending=False).head(10)"
   ]
  },
  {
   "cell_type": "markdown",
   "metadata": {},
   "source": [
    "# Descriptive Summary of numeric columns"
   ]
  },
  {
   "cell_type": "code",
   "execution_count": 15,
   "metadata": {
    "execution": {
     "iopub.execute_input": "2022-07-09T17:46:45.400069Z",
     "iopub.status.busy": "2022-07-09T17:46:45.399520Z",
     "iopub.status.idle": "2022-07-09T17:46:45.458376Z",
     "shell.execute_reply": "2022-07-09T17:46:45.457521Z",
     "shell.execute_reply.started": "2022-07-09T17:46:45.400035Z"
    }
   },
   "outputs": [
    {
     "data": {
      "text/html": [
       "<div>\n",
       "<style scoped>\n",
       "    .dataframe tbody tr th:only-of-type {\n",
       "        vertical-align: middle;\n",
       "    }\n",
       "\n",
       "    .dataframe tbody tr th {\n",
       "        vertical-align: top;\n",
       "    }\n",
       "\n",
       "    .dataframe thead th {\n",
       "        text-align: right;\n",
       "    }\n",
       "</style>\n",
       "<table border=\"1\" class=\"dataframe\">\n",
       "  <thead>\n",
       "    <tr style=\"text-align: right;\">\n",
       "      <th></th>\n",
       "      <th>id</th>\n",
       "      <th>Rating</th>\n",
       "      <th>price1</th>\n",
       "      <th>actprice1</th>\n",
       "      <th>norating1</th>\n",
       "      <th>noreviews1</th>\n",
       "      <th>star_5f</th>\n",
       "      <th>star_4f</th>\n",
       "      <th>star_3f</th>\n",
       "      <th>star_2f</th>\n",
       "      <th>star_1f</th>\n",
       "      <th>fulfilled1</th>\n",
       "    </tr>\n",
       "  </thead>\n",
       "  <tbody>\n",
       "    <tr>\n",
       "      <th>count</th>\n",
       "      <td>15730.000000</td>\n",
       "      <td>15730.000000</td>\n",
       "      <td>15730.000000</td>\n",
       "      <td>15730.000000</td>\n",
       "      <td>15052.000000</td>\n",
       "      <td>15152.000000</td>\n",
       "      <td>15142.000000</td>\n",
       "      <td>15191.000000</td>\n",
       "      <td>15499.000000</td>\n",
       "      <td>15730.000000</td>\n",
       "      <td>15730.000000</td>\n",
       "      <td>15730.000000</td>\n",
       "    </tr>\n",
       "    <tr>\n",
       "      <th>mean</th>\n",
       "      <td>10479.541577</td>\n",
       "      <td>4.012873</td>\n",
       "      <td>688.070693</td>\n",
       "      <td>1369.286777</td>\n",
       "      <td>3057.660776</td>\n",
       "      <td>423.976307</td>\n",
       "      <td>1585.239466</td>\n",
       "      <td>655.923310</td>\n",
       "      <td>357.260662</td>\n",
       "      <td>155.085188</td>\n",
       "      <td>275.500572</td>\n",
       "      <td>0.601526</td>\n",
       "    </tr>\n",
       "    <tr>\n",
       "      <th>std</th>\n",
       "      <td>6080.166276</td>\n",
       "      <td>0.298440</td>\n",
       "      <td>649.409586</td>\n",
       "      <td>1240.900227</td>\n",
       "      <td>11846.965689</td>\n",
       "      <td>1768.230384</td>\n",
       "      <td>6177.476241</td>\n",
       "      <td>2855.735531</td>\n",
       "      <td>1402.246610</td>\n",
       "      <td>558.650254</td>\n",
       "      <td>958.589075</td>\n",
       "      <td>0.489600</td>\n",
       "    </tr>\n",
       "    <tr>\n",
       "      <th>min</th>\n",
       "      <td>3.000000</td>\n",
       "      <td>0.000000</td>\n",
       "      <td>69.000000</td>\n",
       "      <td>42.000000</td>\n",
       "      <td>1.000000</td>\n",
       "      <td>0.000000</td>\n",
       "      <td>0.000000</td>\n",
       "      <td>0.000000</td>\n",
       "      <td>0.000000</td>\n",
       "      <td>0.000000</td>\n",
       "      <td>0.000000</td>\n",
       "      <td>0.000000</td>\n",
       "    </tr>\n",
       "    <tr>\n",
       "      <th>25%</th>\n",
       "      <td>5212.000000</td>\n",
       "      <td>3.900000</td>\n",
       "      <td>349.000000</td>\n",
       "      <td>699.000000</td>\n",
       "      <td>63.000000</td>\n",
       "      <td>9.000000</td>\n",
       "      <td>30.000000</td>\n",
       "      <td>12.000000</td>\n",
       "      <td>7.000000</td>\n",
       "      <td>3.000000</td>\n",
       "      <td>6.000000</td>\n",
       "      <td>0.000000</td>\n",
       "    </tr>\n",
       "    <tr>\n",
       "      <th>50%</th>\n",
       "      <td>10458.500000</td>\n",
       "      <td>4.000000</td>\n",
       "      <td>474.000000</td>\n",
       "      <td>999.000000</td>\n",
       "      <td>308.000000</td>\n",
       "      <td>44.000000</td>\n",
       "      <td>150.000000</td>\n",
       "      <td>60.000000</td>\n",
       "      <td>34.000000</td>\n",
       "      <td>17.000000</td>\n",
       "      <td>30.000000</td>\n",
       "      <td>1.000000</td>\n",
       "    </tr>\n",
       "    <tr>\n",
       "      <th>75%</th>\n",
       "      <td>15766.750000</td>\n",
       "      <td>4.200000</td>\n",
       "      <td>699.000000</td>\n",
       "      <td>1299.000000</td>\n",
       "      <td>1526.000000</td>\n",
       "      <td>215.000000</td>\n",
       "      <td>788.000000</td>\n",
       "      <td>300.000000</td>\n",
       "      <td>172.000000</td>\n",
       "      <td>77.000000</td>\n",
       "      <td>140.000000</td>\n",
       "      <td>1.000000</td>\n",
       "    </tr>\n",
       "    <tr>\n",
       "      <th>max</th>\n",
       "      <td>20973.000000</td>\n",
       "      <td>5.000000</td>\n",
       "      <td>5998.000000</td>\n",
       "      <td>13499.000000</td>\n",
       "      <td>289973.000000</td>\n",
       "      <td>45448.000000</td>\n",
       "      <td>151193.000000</td>\n",
       "      <td>74037.000000</td>\n",
       "      <td>34978.000000</td>\n",
       "      <td>11705.000000</td>\n",
       "      <td>18060.000000</td>\n",
       "      <td>1.000000</td>\n",
       "    </tr>\n",
       "  </tbody>\n",
       "</table>\n",
       "</div>"
      ],
      "text/plain": [
       "                 id        Rating        price1     actprice1      norating1  \\\n",
       "count  15730.000000  15730.000000  15730.000000  15730.000000   15052.000000   \n",
       "mean   10479.541577      4.012873    688.070693   1369.286777    3057.660776   \n",
       "std     6080.166276      0.298440    649.409586   1240.900227   11846.965689   \n",
       "min        3.000000      0.000000     69.000000     42.000000       1.000000   \n",
       "25%     5212.000000      3.900000    349.000000    699.000000      63.000000   \n",
       "50%    10458.500000      4.000000    474.000000    999.000000     308.000000   \n",
       "75%    15766.750000      4.200000    699.000000   1299.000000    1526.000000   \n",
       "max    20973.000000      5.000000   5998.000000  13499.000000  289973.000000   \n",
       "\n",
       "         noreviews1        star_5f       star_4f       star_3f       star_2f  \\\n",
       "count  15152.000000   15142.000000  15191.000000  15499.000000  15730.000000   \n",
       "mean     423.976307    1585.239466    655.923310    357.260662    155.085188   \n",
       "std     1768.230384    6177.476241   2855.735531   1402.246610    558.650254   \n",
       "min        0.000000       0.000000      0.000000      0.000000      0.000000   \n",
       "25%        9.000000      30.000000     12.000000      7.000000      3.000000   \n",
       "50%       44.000000     150.000000     60.000000     34.000000     17.000000   \n",
       "75%      215.000000     788.000000    300.000000    172.000000     77.000000   \n",
       "max    45448.000000  151193.000000  74037.000000  34978.000000  11705.000000   \n",
       "\n",
       "            star_1f    fulfilled1  \n",
       "count  15730.000000  15730.000000  \n",
       "mean     275.500572      0.601526  \n",
       "std      958.589075      0.489600  \n",
       "min        0.000000      0.000000  \n",
       "25%        6.000000      0.000000  \n",
       "50%       30.000000      1.000000  \n",
       "75%      140.000000      1.000000  \n",
       "max    18060.000000      1.000000  "
      ]
     },
     "execution_count": 15,
     "metadata": {},
     "output_type": "execute_result"
    }
   ],
   "source": [
    "train_df.describe()"
   ]
  },
  {
   "cell_type": "markdown",
   "metadata": {},
   "source": [
    "# Descriptive summary of categorical columns"
   ]
  },
  {
   "cell_type": "code",
   "execution_count": 16,
   "metadata": {
    "execution": {
     "iopub.execute_input": "2022-07-09T17:46:45.460399Z",
     "iopub.status.busy": "2022-07-09T17:46:45.459639Z",
     "iopub.status.idle": "2022-07-09T17:46:45.496519Z",
     "shell.execute_reply": "2022-07-09T17:46:45.495758Z",
     "shell.execute_reply.started": "2022-07-09T17:46:45.460365Z"
    }
   },
   "outputs": [
    {
     "data": {
      "text/html": [
       "<div>\n",
       "<style scoped>\n",
       "    .dataframe tbody tr th:only-of-type {\n",
       "        vertical-align: middle;\n",
       "    }\n",
       "\n",
       "    .dataframe tbody tr th {\n",
       "        vertical-align: top;\n",
       "    }\n",
       "\n",
       "    .dataframe thead th {\n",
       "        text-align: right;\n",
       "    }\n",
       "</style>\n",
       "<table border=\"1\" class=\"dataframe\">\n",
       "  <thead>\n",
       "    <tr style=\"text-align: right;\">\n",
       "      <th></th>\n",
       "      <th>title</th>\n",
       "      <th>maincateg</th>\n",
       "      <th>platform</th>\n",
       "      <th>Offer %</th>\n",
       "    </tr>\n",
       "  </thead>\n",
       "  <tbody>\n",
       "    <tr>\n",
       "      <th>count</th>\n",
       "      <td>15730</td>\n",
       "      <td>15204</td>\n",
       "      <td>15730</td>\n",
       "      <td>15730</td>\n",
       "    </tr>\n",
       "    <tr>\n",
       "      <th>unique</th>\n",
       "      <td>4782</td>\n",
       "      <td>2</td>\n",
       "      <td>2</td>\n",
       "      <td>2530</td>\n",
       "    </tr>\n",
       "    <tr>\n",
       "      <th>top</th>\n",
       "      <td>Flip Flops</td>\n",
       "      <td>Women</td>\n",
       "      <td>Flipkart</td>\n",
       "      <td>50.05%</td>\n",
       "    </tr>\n",
       "    <tr>\n",
       "      <th>freq</th>\n",
       "      <td>495</td>\n",
       "      <td>8781</td>\n",
       "      <td>15389</td>\n",
       "      <td>575</td>\n",
       "    </tr>\n",
       "  </tbody>\n",
       "</table>\n",
       "</div>"
      ],
      "text/plain": [
       "             title maincateg  platform Offer %\n",
       "count        15730     15204     15730   15730\n",
       "unique        4782         2         2    2530\n",
       "top     Flip Flops     Women  Flipkart  50.05%\n",
       "freq           495      8781     15389     575"
      ]
     },
     "execution_count": 16,
     "metadata": {},
     "output_type": "execute_result"
    }
   ],
   "source": [
    "train_df.describe(include=\"object\")"
   ]
  },
  {
   "cell_type": "code",
   "execution_count": 17,
   "metadata": {
    "execution": {
     "iopub.execute_input": "2022-07-09T17:46:45.498500Z",
     "iopub.status.busy": "2022-07-09T17:46:45.497516Z",
     "iopub.status.idle": "2022-07-09T17:46:45.513773Z",
     "shell.execute_reply": "2022-07-09T17:46:45.512785Z",
     "shell.execute_reply.started": "2022-07-09T17:46:45.498452Z"
    }
   },
   "outputs": [],
   "source": [
    "corr=train_df.corr()"
   ]
  },
  {
   "cell_type": "markdown",
   "metadata": {},
   "source": [
    "# How much price correlated with independent variables?"
   ]
  },
  {
   "cell_type": "code",
   "execution_count": 18,
   "metadata": {
    "execution": {
     "iopub.execute_input": "2022-07-09T17:46:45.515633Z",
     "iopub.status.busy": "2022-07-09T17:46:45.514782Z",
     "iopub.status.idle": "2022-07-09T17:46:45.523490Z",
     "shell.execute_reply": "2022-07-09T17:46:45.522405Z",
     "shell.execute_reply.started": "2022-07-09T17:46:45.515599Z"
    }
   },
   "outputs": [
    {
     "data": {
      "text/plain": [
       "id            0.004378\n",
       "Rating        0.291511\n",
       "price1        1.000000\n",
       "actprice1     0.889304\n",
       "norating1    -0.045184\n",
       "noreviews1   -0.040171\n",
       "star_5f      -0.040196\n",
       "star_4f      -0.031649\n",
       "star_3f      -0.056558\n",
       "star_2f      -0.071090\n",
       "star_1f      -0.070024\n",
       "fulfilled1    0.256335\n",
       "Name: price1, dtype: float64"
      ]
     },
     "execution_count": 18,
     "metadata": {},
     "output_type": "execute_result"
    }
   ],
   "source": [
    "corr['price1']"
   ]
  },
  {
   "cell_type": "code",
   "execution_count": 19,
   "metadata": {
    "execution": {
     "iopub.execute_input": "2022-07-09T17:46:45.525447Z",
     "iopub.status.busy": "2022-07-09T17:46:45.524639Z",
     "iopub.status.idle": "2022-07-09T17:46:45.779011Z",
     "shell.execute_reply": "2022-07-09T17:46:45.777832Z",
     "shell.execute_reply.started": "2022-07-09T17:46:45.525417Z"
    }
   },
   "outputs": [
    {
     "data": {
      "text/plain": [
       "<AxesSubplot:xlabel='price1', ylabel='actprice1'>"
      ]
     },
     "execution_count": 19,
     "metadata": {},
     "output_type": "execute_result"
    },
    {
     "data": {
      "image/png": "[encoded data removed]",
      "text/plain": [
       "<Figure size 432x288 with 1 Axes>"
      ]
     },
     "metadata": {
      "needs_background": "light"
     },
     "output_type": "display_data"
    }
   ],
   "source": [
    "sns.scatterplot(data=train_df,x=\"price1\",y=\"actprice1\",)"
   ]
  },
  {
   "cell_type": "markdown",
   "metadata": {},
   "source": [
    "# Check datatype of datasets"
   ]
  },
  {
   "cell_type": "code",
   "execution_count": 20,
   "metadata": {
    "execution": {
     "iopub.execute_input": "2022-07-09T17:46:45.781385Z",
     "iopub.status.busy": "2022-07-09T17:46:45.780521Z",
     "iopub.status.idle": "2022-07-09T17:46:45.789323Z",
     "shell.execute_reply": "2022-07-09T17:46:45.788200Z",
     "shell.execute_reply.started": "2022-07-09T17:46:45.781347Z"
    }
   },
   "outputs": [
    {
     "data": {
      "text/plain": [
       "id              int64\n",
       "title          object\n",
       "Rating        float64\n",
       "maincateg      object\n",
       "platform       object\n",
       "price1          int64\n",
       "actprice1       int64\n",
       "Offer %        object\n",
       "norating1     float64\n",
       "noreviews1    float64\n",
       "star_5f       float64\n",
       "star_4f       float64\n",
       "star_3f       float64\n",
       "star_2f         int64\n",
       "star_1f         int64\n",
       "fulfilled1      int64\n",
       "dtype: object"
      ]
     },
     "execution_count": 20,
     "metadata": {},
     "output_type": "execute_result"
    }
   ],
   "source": [
    "train_df.dtypes"
   ]
  },
  {
   "cell_type": "markdown",
   "metadata": {},
   "source": [
    "# Split input and target variable"
   ]
  },
  {
   "cell_type": "code",
   "execution_count": 21,
   "metadata": {
    "execution": {
     "iopub.execute_input": "2022-07-09T17:46:45.791193Z",
     "iopub.status.busy": "2022-07-09T17:46:45.790849Z",
     "iopub.status.idle": "2022-07-09T17:46:45.801785Z",
     "shell.execute_reply": "2022-07-09T17:46:45.800793Z",
     "shell.execute_reply.started": "2022-07-09T17:46:45.791154Z"
    }
   },
   "outputs": [],
   "source": [
    "X=train_df.drop(columns=[\"id\",\"price1\",\"title\",\"Offer %\"],axis=1)\n",
    "y=train_df.price1"
   ]
  },
  {
   "cell_type": "code",
   "execution_count": 22,
   "metadata": {
    "execution": {
     "iopub.execute_input": "2022-07-09T17:46:45.803977Z",
     "iopub.status.busy": "2022-07-09T17:46:45.803025Z",
     "iopub.status.idle": "2022-07-09T17:46:45.826831Z",
     "shell.execute_reply": "2022-07-09T17:46:45.826015Z",
     "shell.execute_reply.started": "2022-07-09T17:46:45.803946Z"
    }
   },
   "outputs": [
    {
     "data": {
      "text/html": [
       "<div>\n",
       "<style scoped>\n",
       "    .dataframe tbody tr th:only-of-type {\n",
       "        vertical-align: middle;\n",
       "    }\n",
       "\n",
       "    .dataframe tbody tr th {\n",
       "        vertical-align: top;\n",
       "    }\n",
       "\n",
       "    .dataframe thead th {\n",
       "        text-align: right;\n",
       "    }\n",
       "</style>\n",
       "<table border=\"1\" class=\"dataframe\">\n",
       "  <thead>\n",
       "    <tr style=\"text-align: right;\">\n",
       "      <th></th>\n",
       "      <th>Rating</th>\n",
       "      <th>maincateg</th>\n",
       "      <th>platform</th>\n",
       "      <th>actprice1</th>\n",
       "      <th>norating1</th>\n",
       "      <th>noreviews1</th>\n",
       "      <th>star_5f</th>\n",
       "      <th>star_4f</th>\n",
       "      <th>star_3f</th>\n",
       "      <th>star_2f</th>\n",
       "      <th>star_1f</th>\n",
       "      <th>fulfilled1</th>\n",
       "    </tr>\n",
       "  </thead>\n",
       "  <tbody>\n",
       "    <tr>\n",
       "      <th>0</th>\n",
       "      <td>3.9</td>\n",
       "      <td>Women</td>\n",
       "      <td>Flipkart</td>\n",
       "      <td>999</td>\n",
       "      <td>38.0</td>\n",
       "      <td>7.0</td>\n",
       "      <td>17.0</td>\n",
       "      <td>9.0</td>\n",
       "      <td>6.0</td>\n",
       "      <td>3</td>\n",
       "      <td>3</td>\n",
       "      <td>0</td>\n",
       "    </tr>\n",
       "    <tr>\n",
       "      <th>1</th>\n",
       "      <td>3.8</td>\n",
       "      <td>Men</td>\n",
       "      <td>Flipkart</td>\n",
       "      <td>1999</td>\n",
       "      <td>531.0</td>\n",
       "      <td>69.0</td>\n",
       "      <td>264.0</td>\n",
       "      <td>92.0</td>\n",
       "      <td>73.0</td>\n",
       "      <td>29</td>\n",
       "      <td>73</td>\n",
       "      <td>1</td>\n",
       "    </tr>\n",
       "    <tr>\n",
       "      <th>2</th>\n",
       "      <td>4.4</td>\n",
       "      <td>Women</td>\n",
       "      <td>Flipkart</td>\n",
       "      <td>4999</td>\n",
       "      <td>17.0</td>\n",
       "      <td>4.0</td>\n",
       "      <td>11.0</td>\n",
       "      <td>3.0</td>\n",
       "      <td>2.0</td>\n",
       "      <td>1</td>\n",
       "      <td>0</td>\n",
       "      <td>1</td>\n",
       "    </tr>\n",
       "    <tr>\n",
       "      <th>3</th>\n",
       "      <td>4.2</td>\n",
       "      <td>Men</td>\n",
       "      <td>Flipkart</td>\n",
       "      <td>724</td>\n",
       "      <td>46413.0</td>\n",
       "      <td>6229.0</td>\n",
       "      <td>1045.0</td>\n",
       "      <td>12416.0</td>\n",
       "      <td>5352.0</td>\n",
       "      <td>701</td>\n",
       "      <td>4595</td>\n",
       "      <td>1</td>\n",
       "    </tr>\n",
       "    <tr>\n",
       "      <th>4</th>\n",
       "      <td>3.9</td>\n",
       "      <td>Men</td>\n",
       "      <td>Flipkart</td>\n",
       "      <td>2299</td>\n",
       "      <td>77.0</td>\n",
       "      <td>3.0</td>\n",
       "      <td>35.0</td>\n",
       "      <td>21.0</td>\n",
       "      <td>7.0</td>\n",
       "      <td>7</td>\n",
       "      <td>7</td>\n",
       "      <td>1</td>\n",
       "    </tr>\n",
       "  </tbody>\n",
       "</table>\n",
       "</div>"
      ],
      "text/plain": [
       "   Rating maincateg  platform  actprice1  norating1  noreviews1  star_5f  \\\n",
       "0     3.9     Women  Flipkart        999       38.0         7.0     17.0   \n",
       "1     3.8       Men  Flipkart       1999      531.0        69.0    264.0   \n",
       "2     4.4     Women  Flipkart       4999       17.0         4.0     11.0   \n",
       "3     4.2       Men  Flipkart        724    46413.0      6229.0   1045.0   \n",
       "4     3.9       Men  Flipkart       2299       77.0         3.0     35.0   \n",
       "\n",
       "   star_4f  star_3f  star_2f  star_1f  fulfilled1  \n",
       "0      9.0      6.0        3        3           0  \n",
       "1     92.0     73.0       29       73           1  \n",
       "2      3.0      2.0        1        0           1  \n",
       "3  12416.0   5352.0      701     4595           1  \n",
       "4     21.0      7.0        7        7           1  "
      ]
     },
     "execution_count": 22,
     "metadata": {},
     "output_type": "execute_result"
    }
   ],
   "source": [
    "X.head()"
   ]
  },
  {
   "cell_type": "code",
   "execution_count": 23,
   "metadata": {
    "execution": {
     "iopub.execute_input": "2022-07-09T17:46:45.828969Z",
     "iopub.status.busy": "2022-07-09T17:46:45.828156Z",
     "iopub.status.idle": "2022-07-09T17:46:45.836249Z",
     "shell.execute_reply": "2022-07-09T17:46:45.834685Z",
     "shell.execute_reply.started": "2022-07-09T17:46:45.828932Z"
    }
   },
   "outputs": [
    {
     "data": {
      "text/plain": [
       "0     698\n",
       "1     999\n",
       "2    2749\n",
       "3     518\n",
       "4    1379\n",
       "Name: price1, dtype: int64"
      ]
     },
     "execution_count": 23,
     "metadata": {},
     "output_type": "execute_result"
    }
   ],
   "source": [
    "y.head()"
   ]
  },
  {
   "cell_type": "markdown",
   "metadata": {},
   "source": [
    "# Preprocessing "
   ]
  },
  {
   "cell_type": "code",
   "execution_count": 24,
   "metadata": {
    "execution": {
     "iopub.execute_input": "2022-07-09T17:46:45.839323Z",
     "iopub.status.busy": "2022-07-09T17:46:45.838260Z",
     "iopub.status.idle": "2022-07-09T17:46:45.846285Z",
     "shell.execute_reply": "2022-07-09T17:46:45.845274Z",
     "shell.execute_reply.started": "2022-07-09T17:46:45.839170Z"
    }
   },
   "outputs": [],
   "source": [
    "from sklearn.impute import SimpleImputer\n",
    "from sklearn.preprocessing import StandardScaler\n",
    "from sklearn.preprocessing import OneHotEncoder"
   ]
  },
  {
   "cell_type": "code",
   "execution_count": 25,
   "metadata": {
    "execution": {
     "iopub.execute_input": "2022-07-09T17:46:45.848057Z",
     "iopub.status.busy": "2022-07-09T17:46:45.847638Z",
     "iopub.status.idle": "2022-07-09T17:46:45.856120Z",
     "shell.execute_reply": "2022-07-09T17:46:45.855346Z",
     "shell.execute_reply.started": "2022-07-09T17:46:45.848025Z"
    }
   },
   "outputs": [],
   "source": [
    "imputer=SimpleImputer(strategy=\"mean\")\n",
    "scaler=StandardScaler()\n",
    "encoder=OneHotEncoder(handle_unknown=\"ignore\",sparse=False)"
   ]
  },
  {
   "cell_type": "markdown",
   "metadata": {},
   "source": [
    "# Divide numeric and categorical columns in input variables"
   ]
  },
  {
   "cell_type": "code",
   "execution_count": 26,
   "metadata": {
    "execution": {
     "iopub.execute_input": "2022-07-09T17:46:45.858430Z",
     "iopub.status.busy": "2022-07-09T17:46:45.857690Z",
     "iopub.status.idle": "2022-07-09T17:46:45.870770Z",
     "shell.execute_reply": "2022-07-09T17:46:45.869948Z",
     "shell.execute_reply.started": "2022-07-09T17:46:45.858397Z"
    }
   },
   "outputs": [],
   "source": [
    "X_num=X.select_dtypes(include=\"number\")\n",
    "X_cat=X.select_dtypes(include=\"object\")"
   ]
  },
  {
   "cell_type": "markdown",
   "metadata": {},
   "source": [
    "# Simple imputer for dealing with missing value"
   ]
  },
  {
   "cell_type": "code",
   "execution_count": 27,
   "metadata": {
    "execution": {
     "iopub.execute_input": "2022-07-09T17:46:45.872963Z",
     "iopub.status.busy": "2022-07-09T17:46:45.872060Z",
     "iopub.status.idle": "2022-07-09T17:46:45.889810Z",
     "shell.execute_reply": "2022-07-09T17:46:45.888700Z",
     "shell.execute_reply.started": "2022-07-09T17:46:45.872926Z"
    }
   },
   "outputs": [],
   "source": [
    "X[X_num.columns]=imputer.fit_transform(X_num)"
   ]
  },
  {
   "cell_type": "code",
   "execution_count": 28,
   "metadata": {
    "execution": {
     "iopub.execute_input": "2022-07-09T17:46:45.898348Z",
     "iopub.status.busy": "2022-07-09T17:46:45.897945Z",
     "iopub.status.idle": "2022-07-09T17:46:45.907191Z",
     "shell.execute_reply": "2022-07-09T17:46:45.906063Z",
     "shell.execute_reply.started": "2022-07-09T17:46:45.898315Z"
    }
   },
   "outputs": [
    {
     "data": {
      "text/plain": [
       "array([4.01287349e+00, 1.36928678e+03, 3.05766078e+03, 4.23976307e+02,\n",
       "       1.58523947e+03, 6.55923310e+02, 3.57260662e+02, 1.55085188e+02,\n",
       "       2.75500572e+02, 6.01525747e-01])"
      ]
     },
     "execution_count": 28,
     "metadata": {},
     "output_type": "execute_result"
    }
   ],
   "source": [
    "imputer.statistics_"
   ]
  },
  {
   "cell_type": "markdown",
   "metadata": {},
   "source": [
    "### These value are the mean of each column and fill in the place of missing values"
   ]
  },
  {
   "cell_type": "code",
   "execution_count": 29,
   "metadata": {
    "execution": {
     "iopub.execute_input": "2022-07-09T17:46:45.909726Z",
     "iopub.status.busy": "2022-07-09T17:46:45.908623Z",
     "iopub.status.idle": "2022-07-09T17:46:45.941161Z",
     "shell.execute_reply": "2022-07-09T17:46:45.939855Z",
     "shell.execute_reply.started": "2022-07-09T17:46:45.909689Z"
    }
   },
   "outputs": [
    {
     "data": {
      "text/html": [
       "<div>\n",
       "<style scoped>\n",
       "    .dataframe tbody tr th:only-of-type {\n",
       "        vertical-align: middle;\n",
       "    }\n",
       "\n",
       "    .dataframe tbody tr th {\n",
       "        vertical-align: top;\n",
       "    }\n",
       "\n",
       "    .dataframe thead th {\n",
       "        text-align: right;\n",
       "    }\n",
       "</style>\n",
       "<table border=\"1\" class=\"dataframe\">\n",
       "  <thead>\n",
       "    <tr style=\"text-align: right;\">\n",
       "      <th></th>\n",
       "      <th>Rating</th>\n",
       "      <th>actprice1</th>\n",
       "      <th>norating1</th>\n",
       "      <th>noreviews1</th>\n",
       "      <th>star_5f</th>\n",
       "      <th>star_4f</th>\n",
       "      <th>star_3f</th>\n",
       "      <th>star_2f</th>\n",
       "      <th>star_1f</th>\n",
       "      <th>fulfilled1</th>\n",
       "    </tr>\n",
       "  </thead>\n",
       "  <tbody>\n",
       "    <tr>\n",
       "      <th>0</th>\n",
       "      <td>3.9</td>\n",
       "      <td>999.0</td>\n",
       "      <td>38.000000</td>\n",
       "      <td>7.0</td>\n",
       "      <td>17.000000</td>\n",
       "      <td>9.00000</td>\n",
       "      <td>6.0</td>\n",
       "      <td>3.0</td>\n",
       "      <td>3.0</td>\n",
       "      <td>0.0</td>\n",
       "    </tr>\n",
       "    <tr>\n",
       "      <th>1</th>\n",
       "      <td>3.8</td>\n",
       "      <td>1999.0</td>\n",
       "      <td>531.000000</td>\n",
       "      <td>69.0</td>\n",
       "      <td>264.000000</td>\n",
       "      <td>92.00000</td>\n",
       "      <td>73.0</td>\n",
       "      <td>29.0</td>\n",
       "      <td>73.0</td>\n",
       "      <td>1.0</td>\n",
       "    </tr>\n",
       "    <tr>\n",
       "      <th>2</th>\n",
       "      <td>4.4</td>\n",
       "      <td>4999.0</td>\n",
       "      <td>17.000000</td>\n",
       "      <td>4.0</td>\n",
       "      <td>11.000000</td>\n",
       "      <td>3.00000</td>\n",
       "      <td>2.0</td>\n",
       "      <td>1.0</td>\n",
       "      <td>0.0</td>\n",
       "      <td>1.0</td>\n",
       "    </tr>\n",
       "    <tr>\n",
       "      <th>3</th>\n",
       "      <td>4.2</td>\n",
       "      <td>724.0</td>\n",
       "      <td>46413.000000</td>\n",
       "      <td>6229.0</td>\n",
       "      <td>1045.000000</td>\n",
       "      <td>12416.00000</td>\n",
       "      <td>5352.0</td>\n",
       "      <td>701.0</td>\n",
       "      <td>4595.0</td>\n",
       "      <td>1.0</td>\n",
       "    </tr>\n",
       "    <tr>\n",
       "      <th>4</th>\n",
       "      <td>3.9</td>\n",
       "      <td>2299.0</td>\n",
       "      <td>77.000000</td>\n",
       "      <td>3.0</td>\n",
       "      <td>35.000000</td>\n",
       "      <td>21.00000</td>\n",
       "      <td>7.0</td>\n",
       "      <td>7.0</td>\n",
       "      <td>7.0</td>\n",
       "      <td>1.0</td>\n",
       "    </tr>\n",
       "    <tr>\n",
       "      <th>...</th>\n",
       "      <td>...</td>\n",
       "      <td>...</td>\n",
       "      <td>...</td>\n",
       "      <td>...</td>\n",
       "      <td>...</td>\n",
       "      <td>...</td>\n",
       "      <td>...</td>\n",
       "      <td>...</td>\n",
       "      <td>...</td>\n",
       "      <td>...</td>\n",
       "    </tr>\n",
       "    <tr>\n",
       "      <th>15725</th>\n",
       "      <td>4.3</td>\n",
       "      <td>1199.0</td>\n",
       "      <td>807.000000</td>\n",
       "      <td>114.0</td>\n",
       "      <td>485.000000</td>\n",
       "      <td>177.00000</td>\n",
       "      <td>61.0</td>\n",
       "      <td>41.0</td>\n",
       "      <td>43.0</td>\n",
       "      <td>0.0</td>\n",
       "    </tr>\n",
       "    <tr>\n",
       "      <th>15726</th>\n",
       "      <td>3.9</td>\n",
       "      <td>998.0</td>\n",
       "      <td>246.000000</td>\n",
       "      <td>34.0</td>\n",
       "      <td>120.000000</td>\n",
       "      <td>45.00000</td>\n",
       "      <td>37.0</td>\n",
       "      <td>16.0</td>\n",
       "      <td>28.0</td>\n",
       "      <td>1.0</td>\n",
       "    </tr>\n",
       "    <tr>\n",
       "      <th>15727</th>\n",
       "      <td>3.7</td>\n",
       "      <td>499.0</td>\n",
       "      <td>3057.660776</td>\n",
       "      <td>18.0</td>\n",
       "      <td>1585.239466</td>\n",
       "      <td>655.92331</td>\n",
       "      <td>20.0</td>\n",
       "      <td>10.0</td>\n",
       "      <td>15.0</td>\n",
       "      <td>1.0</td>\n",
       "    </tr>\n",
       "    <tr>\n",
       "      <th>15728</th>\n",
       "      <td>3.9</td>\n",
       "      <td>4499.0</td>\n",
       "      <td>750.000000</td>\n",
       "      <td>479.0</td>\n",
       "      <td>13.000000</td>\n",
       "      <td>6.00000</td>\n",
       "      <td>10.0</td>\n",
       "      <td>25.0</td>\n",
       "      <td>47.0</td>\n",
       "      <td>1.0</td>\n",
       "    </tr>\n",
       "    <tr>\n",
       "      <th>15729</th>\n",
       "      <td>5.0</td>\n",
       "      <td>2799.0</td>\n",
       "      <td>8.000000</td>\n",
       "      <td>1.0</td>\n",
       "      <td>8.000000</td>\n",
       "      <td>0.00000</td>\n",
       "      <td>0.0</td>\n",
       "      <td>0.0</td>\n",
       "      <td>0.0</td>\n",
       "      <td>1.0</td>\n",
       "    </tr>\n",
       "  </tbody>\n",
       "</table>\n",
       "<p>15730 rows × 10 columns</p>\n",
       "</div>"
      ],
      "text/plain": [
       "       Rating  actprice1     norating1  noreviews1      star_5f      star_4f  \\\n",
       "0         3.9      999.0     38.000000         7.0    17.000000      9.00000   \n",
       "1         3.8     1999.0    531.000000        69.0   264.000000     92.00000   \n",
       "2         4.4     4999.0     17.000000         4.0    11.000000      3.00000   \n",
       "3         4.2      724.0  46413.000000      6229.0  1045.000000  12416.00000   \n",
       "4         3.9     2299.0     77.000000         3.0    35.000000     21.00000   \n",
       "...       ...        ...           ...         ...          ...          ...   \n",
       "15725     4.3     1199.0    807.000000       114.0   485.000000    177.00000   \n",
       "15726     3.9      998.0    246.000000        34.0   120.000000     45.00000   \n",
       "15727     3.7      499.0   3057.660776        18.0  1585.239466    655.92331   \n",
       "15728     3.9     4499.0    750.000000       479.0    13.000000      6.00000   \n",
       "15729     5.0     2799.0      8.000000         1.0     8.000000      0.00000   \n",
       "\n",
       "       star_3f  star_2f  star_1f  fulfilled1  \n",
       "0          6.0      3.0      3.0         0.0  \n",
       "1         73.0     29.0     73.0         1.0  \n",
       "2          2.0      1.0      0.0         1.0  \n",
       "3       5352.0    701.0   4595.0         1.0  \n",
       "4          7.0      7.0      7.0         1.0  \n",
       "...        ...      ...      ...         ...  \n",
       "15725     61.0     41.0     43.0         0.0  \n",
       "15726     37.0     16.0     28.0         1.0  \n",
       "15727     20.0     10.0     15.0         1.0  \n",
       "15728     10.0     25.0     47.0         1.0  \n",
       "15729      0.0      0.0      0.0         1.0  \n",
       "\n",
       "[15730 rows x 10 columns]"
      ]
     },
     "execution_count": 29,
     "metadata": {},
     "output_type": "execute_result"
    }
   ],
   "source": [
    "X[X_num.columns]"
   ]
  },
  {
   "cell_type": "markdown",
   "metadata": {},
   "source": [
    "### We can easily see tha each missing value fill with that columns mean"
   ]
  },
  {
   "cell_type": "markdown",
   "metadata": {},
   "source": [
    "# Check null value in numeric columns after using simple imputer"
   ]
  },
  {
   "cell_type": "code",
   "execution_count": 30,
   "metadata": {
    "execution": {
     "iopub.execute_input": "2022-07-09T17:46:45.943071Z",
     "iopub.status.busy": "2022-07-09T17:46:45.942751Z",
     "iopub.status.idle": "2022-07-09T17:46:45.953816Z",
     "shell.execute_reply": "2022-07-09T17:46:45.952822Z",
     "shell.execute_reply.started": "2022-07-09T17:46:45.943042Z"
    }
   },
   "outputs": [
    {
     "data": {
      "text/plain": [
       "Rating        0\n",
       "actprice1     0\n",
       "norating1     0\n",
       "noreviews1    0\n",
       "star_5f       0\n",
       "star_4f       0\n",
       "star_3f       0\n",
       "star_2f       0\n",
       "star_1f       0\n",
       "fulfilled1    0\n",
       "dtype: int64"
      ]
     },
     "execution_count": 30,
     "metadata": {},
     "output_type": "execute_result"
    }
   ],
   "source": [
    "X[X_num.columns].isna().sum()"
   ]
  },
  {
   "cell_type": "markdown",
   "metadata": {},
   "source": [
    "### We can easily see no null value present after imputing"
   ]
  },
  {
   "cell_type": "markdown",
   "metadata": {
    "execution": {
     "iopub.execute_input": "2022-07-08T16:41:28.539757Z",
     "iopub.status.busy": "2022-07-08T16:41:28.539427Z",
     "iopub.status.idle": "2022-07-08T16:41:28.553486Z",
     "shell.execute_reply": "2022-07-08T16:41:28.552476Z",
     "shell.execute_reply.started": "2022-07-08T16:41:28.539727Z"
    }
   },
   "source": [
    "# Standaridzed the numeric columns of input variables"
   ]
  },
  {
   "cell_type": "code",
   "execution_count": 31,
   "metadata": {
    "execution": {
     "iopub.execute_input": "2022-07-09T17:46:45.956070Z",
     "iopub.status.busy": "2022-07-09T17:46:45.955443Z",
     "iopub.status.idle": "2022-07-09T17:46:45.969323Z",
     "shell.execute_reply": "2022-07-09T17:46:45.968032Z",
     "shell.execute_reply.started": "2022-07-09T17:46:45.956027Z"
    }
   },
   "outputs": [],
   "source": [
    "X[X_num.columns]=scaler.fit_transform(X[X_num.columns])"
   ]
  },
  {
   "cell_type": "code",
   "execution_count": 32,
   "metadata": {
    "execution": {
     "iopub.execute_input": "2022-07-09T17:46:45.971933Z",
     "iopub.status.busy": "2022-07-09T17:46:45.971156Z",
     "iopub.status.idle": "2022-07-09T17:46:46.027877Z",
     "shell.execute_reply": "2022-07-09T17:46:46.026980Z",
     "shell.execute_reply.started": "2022-07-09T17:46:45.971885Z"
    }
   },
   "outputs": [
    {
     "data": {
      "text/html": [
       "<div>\n",
       "<style scoped>\n",
       "    .dataframe tbody tr th:only-of-type {\n",
       "        vertical-align: middle;\n",
       "    }\n",
       "\n",
       "    .dataframe tbody tr th {\n",
       "        vertical-align: top;\n",
       "    }\n",
       "\n",
       "    .dataframe thead th {\n",
       "        text-align: right;\n",
       "    }\n",
       "</style>\n",
       "<table border=\"1\" class=\"dataframe\">\n",
       "  <thead>\n",
       "    <tr style=\"text-align: right;\">\n",
       "      <th></th>\n",
       "      <th>Rating</th>\n",
       "      <th>actprice1</th>\n",
       "      <th>norating1</th>\n",
       "      <th>noreviews1</th>\n",
       "      <th>star_5f</th>\n",
       "      <th>star_4f</th>\n",
       "      <th>star_3f</th>\n",
       "      <th>star_2f</th>\n",
       "      <th>star_1f</th>\n",
       "      <th>fulfilled1</th>\n",
       "    </tr>\n",
       "  </thead>\n",
       "  <tbody>\n",
       "    <tr>\n",
       "      <th>count</th>\n",
       "      <td>1.573000e+04</td>\n",
       "      <td>1.573000e+04</td>\n",
       "      <td>1.573000e+04</td>\n",
       "      <td>1.573000e+04</td>\n",
       "      <td>1.573000e+04</td>\n",
       "      <td>1.573000e+04</td>\n",
       "      <td>1.573000e+04</td>\n",
       "      <td>1.573000e+04</td>\n",
       "      <td>1.573000e+04</td>\n",
       "      <td>1.573000e+04</td>\n",
       "    </tr>\n",
       "    <tr>\n",
       "      <th>mean</th>\n",
       "      <td>1.596378e-15</td>\n",
       "      <td>1.322951e-16</td>\n",
       "      <td>-4.739445e-18</td>\n",
       "      <td>5.288558e-17</td>\n",
       "      <td>-1.088061e-16</td>\n",
       "      <td>-5.148103e-17</td>\n",
       "      <td>5.692981e-17</td>\n",
       "      <td>-6.854021e-17</td>\n",
       "      <td>3.620400e-17</td>\n",
       "      <td>5.497192e-16</td>\n",
       "    </tr>\n",
       "    <tr>\n",
       "      <th>std</th>\n",
       "      <td>1.000032e+00</td>\n",
       "      <td>1.000032e+00</td>\n",
       "      <td>1.000032e+00</td>\n",
       "      <td>1.000032e+00</td>\n",
       "      <td>1.000032e+00</td>\n",
       "      <td>1.000032e+00</td>\n",
       "      <td>1.000032e+00</td>\n",
       "      <td>1.000032e+00</td>\n",
       "      <td>1.000032e+00</td>\n",
       "      <td>1.000032e+00</td>\n",
       "    </tr>\n",
       "    <tr>\n",
       "      <th>min</th>\n",
       "      <td>-1.344661e+01</td>\n",
       "      <td>-1.069650e+00</td>\n",
       "      <td>-2.637678e-01</td>\n",
       "      <td>-2.443129e-01</td>\n",
       "      <td>-2.615597e-01</td>\n",
       "      <td>-2.337333e-01</td>\n",
       "      <td>-2.566772e-01</td>\n",
       "      <td>-2.776158e-01</td>\n",
       "      <td>-2.874113e-01</td>\n",
       "      <td>-1.228647e+00</td>\n",
       "    </tr>\n",
       "    <tr>\n",
       "      <th>25%</th>\n",
       "      <td>-3.782241e-01</td>\n",
       "      <td>-5.401789e-01</td>\n",
       "      <td>-2.579862e-01</td>\n",
       "      <td>-2.391268e-01</td>\n",
       "      <td>-2.562798e-01</td>\n",
       "      <td>-2.291008e-01</td>\n",
       "      <td>-2.516480e-01</td>\n",
       "      <td>-2.722455e-01</td>\n",
       "      <td>-2.811519e-01</td>\n",
       "      <td>-1.228647e+00</td>\n",
       "    </tr>\n",
       "    <tr>\n",
       "      <th>50%</th>\n",
       "      <td>-4.313736e-02</td>\n",
       "      <td>-2.984112e-01</td>\n",
       "      <td>-2.330476e-01</td>\n",
       "      <td>-2.163652e-01</td>\n",
       "      <td>-2.330152e-01</td>\n",
       "      <td>-2.098583e-01</td>\n",
       "      <td>-2.315312e-01</td>\n",
       "      <td>-2.471843e-01</td>\n",
       "      <td>-2.561143e-01</td>\n",
       "      <td>8.139037e-01</td>\n",
       "    </tr>\n",
       "    <tr>\n",
       "      <th>75%</th>\n",
       "      <td>6.270361e-01</td>\n",
       "      <td>-5.664356e-02</td>\n",
       "      <td>-9.523798e-02</td>\n",
       "      <td>-9.117663e-02</td>\n",
       "      <td>-9.994518e-02</td>\n",
       "      <td>-9.974854e-02</td>\n",
       "      <td>-1.244807e-01</td>\n",
       "      <td>-1.397792e-01</td>\n",
       "      <td>-1.413587e-01</td>\n",
       "      <td>8.139037e-01</td>\n",
       "    </tr>\n",
       "    <tr>\n",
       "      <th>max</th>\n",
       "      <td>3.307730e+00</td>\n",
       "      <td>9.775241e+00</td>\n",
       "      <td>2.475873e+01</td>\n",
       "      <td>2.594473e+01</td>\n",
       "      <td>2.468483e+01</td>\n",
       "      <td>2.614879e+01</td>\n",
       "      <td>2.487359e+01</td>\n",
       "      <td>2.067534e+01</td>\n",
       "      <td>1.855338e+01</td>\n",
       "      <td>8.139037e-01</td>\n",
       "    </tr>\n",
       "  </tbody>\n",
       "</table>\n",
       "</div>"
      ],
      "text/plain": [
       "             Rating     actprice1     norating1    noreviews1       star_5f  \\\n",
       "count  1.573000e+04  1.573000e+04  1.573000e+04  1.573000e+04  1.573000e+04   \n",
       "mean   1.596378e-15  1.322951e-16 -4.739445e-18  5.288558e-17 -1.088061e-16   \n",
       "std    1.000032e+00  1.000032e+00  1.000032e+00  1.000032e+00  1.000032e+00   \n",
       "min   -1.344661e+01 -1.069650e+00 -2.637678e-01 -2.443129e-01 -2.615597e-01   \n",
       "25%   -3.782241e-01 -5.401789e-01 -2.579862e-01 -2.391268e-01 -2.562798e-01   \n",
       "50%   -4.313736e-02 -2.984112e-01 -2.330476e-01 -2.163652e-01 -2.330152e-01   \n",
       "75%    6.270361e-01 -5.664356e-02 -9.523798e-02 -9.117663e-02 -9.994518e-02   \n",
       "max    3.307730e+00  9.775241e+00  2.475873e+01  2.594473e+01  2.468483e+01   \n",
       "\n",
       "            star_4f       star_3f       star_2f       star_1f    fulfilled1  \n",
       "count  1.573000e+04  1.573000e+04  1.573000e+04  1.573000e+04  1.573000e+04  \n",
       "mean  -5.148103e-17  5.692981e-17 -6.854021e-17  3.620400e-17  5.497192e-16  \n",
       "std    1.000032e+00  1.000032e+00  1.000032e+00  1.000032e+00  1.000032e+00  \n",
       "min   -2.337333e-01 -2.566772e-01 -2.776158e-01 -2.874113e-01 -1.228647e+00  \n",
       "25%   -2.291008e-01 -2.516480e-01 -2.722455e-01 -2.811519e-01 -1.228647e+00  \n",
       "50%   -2.098583e-01 -2.315312e-01 -2.471843e-01 -2.561143e-01  8.139037e-01  \n",
       "75%   -9.974854e-02 -1.244807e-01 -1.397792e-01 -1.413587e-01  8.139037e-01  \n",
       "max    2.614879e+01  2.487359e+01  2.067534e+01  1.855338e+01  8.139037e-01  "
      ]
     },
     "execution_count": 32,
     "metadata": {},
     "output_type": "execute_result"
    }
   ],
   "source": [
    "X[X_num.columns].describe()"
   ]
  },
  {
   "cell_type": "markdown",
   "metadata": {},
   "source": [
    "### We can easly see that all columns has mean zero and standard deviaion 1."
   ]
  },
  {
   "cell_type": "markdown",
   "metadata": {},
   "source": [
    "# Onehotencoder of categorical columns"
   ]
  },
  {
   "cell_type": "code",
   "execution_count": 33,
   "metadata": {
    "execution": {
     "iopub.execute_input": "2022-07-09T17:46:46.030229Z",
     "iopub.status.busy": "2022-07-09T17:46:46.029520Z",
     "iopub.status.idle": "2022-07-09T17:46:46.054962Z",
     "shell.execute_reply": "2022-07-09T17:46:46.053601Z",
     "shell.execute_reply.started": "2022-07-09T17:46:46.030171Z"
    }
   },
   "outputs": [],
   "source": [
    "X[encoder.get_feature_names_out(X_cat.columns)]=encoder.fit_transform(X[X_cat.columns])"
   ]
  },
  {
   "cell_type": "code",
   "execution_count": 34,
   "metadata": {
    "execution": {
     "iopub.execute_input": "2022-07-09T17:46:46.056712Z",
     "iopub.status.busy": "2022-07-09T17:46:46.056363Z",
     "iopub.status.idle": "2022-07-09T17:46:46.080473Z",
     "shell.execute_reply": "2022-07-09T17:46:46.079612Z",
     "shell.execute_reply.started": "2022-07-09T17:46:46.056680Z"
    }
   },
   "outputs": [
    {
     "data": {
      "text/html": [
       "<div>\n",
       "<style scoped>\n",
       "    .dataframe tbody tr th:only-of-type {\n",
       "        vertical-align: middle;\n",
       "    }\n",
       "\n",
       "    .dataframe tbody tr th {\n",
       "        vertical-align: top;\n",
       "    }\n",
       "\n",
       "    .dataframe thead th {\n",
       "        text-align: right;\n",
       "    }\n",
       "</style>\n",
       "<table border=\"1\" class=\"dataframe\">\n",
       "  <thead>\n",
       "    <tr style=\"text-align: right;\">\n",
       "      <th></th>\n",
       "      <th>maincateg_Men</th>\n",
       "      <th>maincateg_Women</th>\n",
       "      <th>maincateg_nan</th>\n",
       "      <th>platform_Amazon</th>\n",
       "      <th>platform_Flipkart</th>\n",
       "    </tr>\n",
       "  </thead>\n",
       "  <tbody>\n",
       "    <tr>\n",
       "      <th>0</th>\n",
       "      <td>0.0</td>\n",
       "      <td>1.0</td>\n",
       "      <td>0.0</td>\n",
       "      <td>0.0</td>\n",
       "      <td>1.0</td>\n",
       "    </tr>\n",
       "    <tr>\n",
       "      <th>1</th>\n",
       "      <td>1.0</td>\n",
       "      <td>0.0</td>\n",
       "      <td>0.0</td>\n",
       "      <td>0.0</td>\n",
       "      <td>1.0</td>\n",
       "    </tr>\n",
       "    <tr>\n",
       "      <th>2</th>\n",
       "      <td>0.0</td>\n",
       "      <td>1.0</td>\n",
       "      <td>0.0</td>\n",
       "      <td>0.0</td>\n",
       "      <td>1.0</td>\n",
       "    </tr>\n",
       "    <tr>\n",
       "      <th>3</th>\n",
       "      <td>1.0</td>\n",
       "      <td>0.0</td>\n",
       "      <td>0.0</td>\n",
       "      <td>0.0</td>\n",
       "      <td>1.0</td>\n",
       "    </tr>\n",
       "    <tr>\n",
       "      <th>4</th>\n",
       "      <td>1.0</td>\n",
       "      <td>0.0</td>\n",
       "      <td>0.0</td>\n",
       "      <td>0.0</td>\n",
       "      <td>1.0</td>\n",
       "    </tr>\n",
       "    <tr>\n",
       "      <th>...</th>\n",
       "      <td>...</td>\n",
       "      <td>...</td>\n",
       "      <td>...</td>\n",
       "      <td>...</td>\n",
       "      <td>...</td>\n",
       "    </tr>\n",
       "    <tr>\n",
       "      <th>15725</th>\n",
       "      <td>0.0</td>\n",
       "      <td>1.0</td>\n",
       "      <td>0.0</td>\n",
       "      <td>0.0</td>\n",
       "      <td>1.0</td>\n",
       "    </tr>\n",
       "    <tr>\n",
       "      <th>15726</th>\n",
       "      <td>0.0</td>\n",
       "      <td>1.0</td>\n",
       "      <td>0.0</td>\n",
       "      <td>0.0</td>\n",
       "      <td>1.0</td>\n",
       "    </tr>\n",
       "    <tr>\n",
       "      <th>15727</th>\n",
       "      <td>0.0</td>\n",
       "      <td>1.0</td>\n",
       "      <td>0.0</td>\n",
       "      <td>0.0</td>\n",
       "      <td>1.0</td>\n",
       "    </tr>\n",
       "    <tr>\n",
       "      <th>15728</th>\n",
       "      <td>1.0</td>\n",
       "      <td>0.0</td>\n",
       "      <td>0.0</td>\n",
       "      <td>1.0</td>\n",
       "      <td>0.0</td>\n",
       "    </tr>\n",
       "    <tr>\n",
       "      <th>15729</th>\n",
       "      <td>1.0</td>\n",
       "      <td>0.0</td>\n",
       "      <td>0.0</td>\n",
       "      <td>0.0</td>\n",
       "      <td>1.0</td>\n",
       "    </tr>\n",
       "  </tbody>\n",
       "</table>\n",
       "<p>15730 rows × 5 columns</p>\n",
       "</div>"
      ],
      "text/plain": [
       "       maincateg_Men  maincateg_Women  maincateg_nan  platform_Amazon  \\\n",
       "0                0.0              1.0            0.0              0.0   \n",
       "1                1.0              0.0            0.0              0.0   \n",
       "2                0.0              1.0            0.0              0.0   \n",
       "3                1.0              0.0            0.0              0.0   \n",
       "4                1.0              0.0            0.0              0.0   \n",
       "...              ...              ...            ...              ...   \n",
       "15725            0.0              1.0            0.0              0.0   \n",
       "15726            0.0              1.0            0.0              0.0   \n",
       "15727            0.0              1.0            0.0              0.0   \n",
       "15728            1.0              0.0            0.0              1.0   \n",
       "15729            1.0              0.0            0.0              0.0   \n",
       "\n",
       "       platform_Flipkart  \n",
       "0                    1.0  \n",
       "1                    1.0  \n",
       "2                    1.0  \n",
       "3                    1.0  \n",
       "4                    1.0  \n",
       "...                  ...  \n",
       "15725                1.0  \n",
       "15726                1.0  \n",
       "15727                1.0  \n",
       "15728                0.0  \n",
       "15729                1.0  \n",
       "\n",
       "[15730 rows x 5 columns]"
      ]
     },
     "execution_count": 34,
     "metadata": {},
     "output_type": "execute_result"
    }
   ],
   "source": [
    "X[encoder.get_feature_names_out(X_cat.columns)]"
   ]
  },
  {
   "cell_type": "markdown",
   "metadata": {},
   "source": [
    "### We can easily see that all the unique categeory in categorical columns become a new columns"
   ]
  },
  {
   "cell_type": "code",
   "execution_count": 35,
   "metadata": {
    "execution": {
     "iopub.execute_input": "2022-07-09T17:46:46.083025Z",
     "iopub.status.busy": "2022-07-09T17:46:46.081958Z",
     "iopub.status.idle": "2022-07-09T17:46:46.118110Z",
     "shell.execute_reply": "2022-07-09T17:46:46.117283Z",
     "shell.execute_reply.started": "2022-07-09T17:46:46.082992Z"
    }
   },
   "outputs": [
    {
     "data": {
      "text/html": [
       "<div>\n",
       "<style scoped>\n",
       "    .dataframe tbody tr th:only-of-type {\n",
       "        vertical-align: middle;\n",
       "    }\n",
       "\n",
       "    .dataframe tbody tr th {\n",
       "        vertical-align: top;\n",
       "    }\n",
       "\n",
       "    .dataframe thead th {\n",
       "        text-align: right;\n",
       "    }\n",
       "</style>\n",
       "<table border=\"1\" class=\"dataframe\">\n",
       "  <thead>\n",
       "    <tr style=\"text-align: right;\">\n",
       "      <th></th>\n",
       "      <th>Rating</th>\n",
       "      <th>actprice1</th>\n",
       "      <th>norating1</th>\n",
       "      <th>noreviews1</th>\n",
       "      <th>star_5f</th>\n",
       "      <th>star_4f</th>\n",
       "      <th>star_3f</th>\n",
       "      <th>star_2f</th>\n",
       "      <th>star_1f</th>\n",
       "      <th>fulfilled1</th>\n",
       "      <th>maincateg_Men</th>\n",
       "      <th>maincateg_Women</th>\n",
       "      <th>maincateg_nan</th>\n",
       "      <th>platform_Amazon</th>\n",
       "      <th>platform_Flipkart</th>\n",
       "    </tr>\n",
       "  </thead>\n",
       "  <tbody>\n",
       "    <tr>\n",
       "      <th>0</th>\n",
       "      <td>-0.378224</td>\n",
       "      <td>-0.298411</td>\n",
       "      <td>-0.260575</td>\n",
       "      <td>-0.240279</td>\n",
       "      <td>-0.258755</td>\n",
       "      <td>-0.230526</td>\n",
       "      <td>-0.252366</td>\n",
       "      <td>-0.272246</td>\n",
       "      <td>-0.284282</td>\n",
       "      <td>-1.228647</td>\n",
       "      <td>0.0</td>\n",
       "      <td>1.0</td>\n",
       "      <td>0.0</td>\n",
       "      <td>0.0</td>\n",
       "      <td>1.0</td>\n",
       "    </tr>\n",
       "    <tr>\n",
       "      <th>1</th>\n",
       "      <td>-0.713311</td>\n",
       "      <td>0.507481</td>\n",
       "      <td>-0.218033</td>\n",
       "      <td>-0.204552</td>\n",
       "      <td>-0.218001</td>\n",
       "      <td>-0.200950</td>\n",
       "      <td>-0.204230</td>\n",
       "      <td>-0.225703</td>\n",
       "      <td>-0.211255</td>\n",
       "      <td>0.813904</td>\n",
       "      <td>1.0</td>\n",
       "      <td>0.0</td>\n",
       "      <td>0.0</td>\n",
       "      <td>0.0</td>\n",
       "      <td>1.0</td>\n",
       "    </tr>\n",
       "    <tr>\n",
       "      <th>2</th>\n",
       "      <td>1.297210</td>\n",
       "      <td>2.925157</td>\n",
       "      <td>-0.262387</td>\n",
       "      <td>-0.242008</td>\n",
       "      <td>-0.259745</td>\n",
       "      <td>-0.232664</td>\n",
       "      <td>-0.255240</td>\n",
       "      <td>-0.275826</td>\n",
       "      <td>-0.287411</td>\n",
       "      <td>0.813904</td>\n",
       "      <td>0.0</td>\n",
       "      <td>1.0</td>\n",
       "      <td>0.0</td>\n",
       "      <td>0.0</td>\n",
       "      <td>1.0</td>\n",
       "    </tr>\n",
       "    <tr>\n",
       "      <th>3</th>\n",
       "      <td>0.627036</td>\n",
       "      <td>-0.520032</td>\n",
       "      <td>3.741254</td>\n",
       "      <td>3.345098</td>\n",
       "      <td>-0.089138</td>\n",
       "      <td>4.190614</td>\n",
       "      <td>3.588517</td>\n",
       "      <td>0.977234</td>\n",
       "      <td>4.506244</td>\n",
       "      <td>0.813904</td>\n",
       "      <td>1.0</td>\n",
       "      <td>0.0</td>\n",
       "      <td>0.0</td>\n",
       "      <td>0.0</td>\n",
       "      <td>1.0</td>\n",
       "    </tr>\n",
       "    <tr>\n",
       "      <th>4</th>\n",
       "      <td>-0.378224</td>\n",
       "      <td>0.749249</td>\n",
       "      <td>-0.257210</td>\n",
       "      <td>-0.242584</td>\n",
       "      <td>-0.255785</td>\n",
       "      <td>-0.226250</td>\n",
       "      <td>-0.251648</td>\n",
       "      <td>-0.265085</td>\n",
       "      <td>-0.280109</td>\n",
       "      <td>0.813904</td>\n",
       "      <td>1.0</td>\n",
       "      <td>0.0</td>\n",
       "      <td>0.0</td>\n",
       "      <td>0.0</td>\n",
       "      <td>1.0</td>\n",
       "    </tr>\n",
       "    <tr>\n",
       "      <th>...</th>\n",
       "      <td>...</td>\n",
       "      <td>...</td>\n",
       "      <td>...</td>\n",
       "      <td>...</td>\n",
       "      <td>...</td>\n",
       "      <td>...</td>\n",
       "      <td>...</td>\n",
       "      <td>...</td>\n",
       "      <td>...</td>\n",
       "      <td>...</td>\n",
       "      <td>...</td>\n",
       "      <td>...</td>\n",
       "      <td>...</td>\n",
       "      <td>...</td>\n",
       "      <td>...</td>\n",
       "    </tr>\n",
       "    <tr>\n",
       "      <th>15725</th>\n",
       "      <td>0.962123</td>\n",
       "      <td>-0.137233</td>\n",
       "      <td>-0.194216</td>\n",
       "      <td>-0.178621</td>\n",
       "      <td>-0.181536</td>\n",
       "      <td>-0.170661</td>\n",
       "      <td>-0.212851</td>\n",
       "      <td>-0.204222</td>\n",
       "      <td>-0.242552</td>\n",
       "      <td>-1.228647</td>\n",
       "      <td>0.0</td>\n",
       "      <td>1.0</td>\n",
       "      <td>0.0</td>\n",
       "      <td>0.0</td>\n",
       "      <td>1.0</td>\n",
       "    </tr>\n",
       "    <tr>\n",
       "      <th>15726</th>\n",
       "      <td>-0.378224</td>\n",
       "      <td>-0.299217</td>\n",
       "      <td>-0.242626</td>\n",
       "      <td>-0.224721</td>\n",
       "      <td>-0.241760</td>\n",
       "      <td>-0.217698</td>\n",
       "      <td>-0.230094</td>\n",
       "      <td>-0.248974</td>\n",
       "      <td>-0.258201</td>\n",
       "      <td>0.813904</td>\n",
       "      <td>0.0</td>\n",
       "      <td>1.0</td>\n",
       "      <td>0.0</td>\n",
       "      <td>0.0</td>\n",
       "      <td>1.0</td>\n",
       "    </tr>\n",
       "    <tr>\n",
       "      <th>15727</th>\n",
       "      <td>-1.048398</td>\n",
       "      <td>-0.701357</td>\n",
       "      <td>0.000000</td>\n",
       "      <td>-0.233941</td>\n",
       "      <td>0.000000</td>\n",
       "      <td>0.000000</td>\n",
       "      <td>-0.242308</td>\n",
       "      <td>-0.259715</td>\n",
       "      <td>-0.271763</td>\n",
       "      <td>0.813904</td>\n",
       "      <td>0.0</td>\n",
       "      <td>1.0</td>\n",
       "      <td>0.0</td>\n",
       "      <td>0.0</td>\n",
       "      <td>1.0</td>\n",
       "    </tr>\n",
       "    <tr>\n",
       "      <th>15728</th>\n",
       "      <td>-0.378224</td>\n",
       "      <td>2.522211</td>\n",
       "      <td>-0.199135</td>\n",
       "      <td>0.031707</td>\n",
       "      <td>-0.259415</td>\n",
       "      <td>-0.231595</td>\n",
       "      <td>-0.249493</td>\n",
       "      <td>-0.232864</td>\n",
       "      <td>-0.238379</td>\n",
       "      <td>0.813904</td>\n",
       "      <td>1.0</td>\n",
       "      <td>0.0</td>\n",
       "      <td>0.0</td>\n",
       "      <td>1.0</td>\n",
       "      <td>0.0</td>\n",
       "    </tr>\n",
       "    <tr>\n",
       "      <th>15729</th>\n",
       "      <td>3.307730</td>\n",
       "      <td>1.152195</td>\n",
       "      <td>-0.263164</td>\n",
       "      <td>-0.243737</td>\n",
       "      <td>-0.260240</td>\n",
       "      <td>-0.233733</td>\n",
       "      <td>-0.256677</td>\n",
       "      <td>-0.277616</td>\n",
       "      <td>-0.287411</td>\n",
       "      <td>0.813904</td>\n",
       "      <td>1.0</td>\n",
       "      <td>0.0</td>\n",
       "      <td>0.0</td>\n",
       "      <td>0.0</td>\n",
       "      <td>1.0</td>\n",
       "    </tr>\n",
       "  </tbody>\n",
       "</table>\n",
       "<p>15730 rows × 15 columns</p>\n",
       "</div>"
      ],
      "text/plain": [
       "         Rating  actprice1  norating1  noreviews1   star_5f   star_4f  \\\n",
       "0     -0.378224  -0.298411  -0.260575   -0.240279 -0.258755 -0.230526   \n",
       "1     -0.713311   0.507481  -0.218033   -0.204552 -0.218001 -0.200950   \n",
       "2      1.297210   2.925157  -0.262387   -0.242008 -0.259745 -0.232664   \n",
       "3      0.627036  -0.520032   3.741254    3.345098 -0.089138  4.190614   \n",
       "4     -0.378224   0.749249  -0.257210   -0.242584 -0.255785 -0.226250   \n",
       "...         ...        ...        ...         ...       ...       ...   \n",
       "15725  0.962123  -0.137233  -0.194216   -0.178621 -0.181536 -0.170661   \n",
       "15726 -0.378224  -0.299217  -0.242626   -0.224721 -0.241760 -0.217698   \n",
       "15727 -1.048398  -0.701357   0.000000   -0.233941  0.000000  0.000000   \n",
       "15728 -0.378224   2.522211  -0.199135    0.031707 -0.259415 -0.231595   \n",
       "15729  3.307730   1.152195  -0.263164   -0.243737 -0.260240 -0.233733   \n",
       "\n",
       "        star_3f   star_2f   star_1f  fulfilled1  maincateg_Men  \\\n",
       "0     -0.252366 -0.272246 -0.284282   -1.228647            0.0   \n",
       "1     -0.204230 -0.225703 -0.211255    0.813904            1.0   \n",
       "2     -0.255240 -0.275826 -0.287411    0.813904            0.0   \n",
       "3      3.588517  0.977234  4.506244    0.813904            1.0   \n",
       "4     -0.251648 -0.265085 -0.280109    0.813904            1.0   \n",
       "...         ...       ...       ...         ...            ...   \n",
       "15725 -0.212851 -0.204222 -0.242552   -1.228647            0.0   \n",
       "15726 -0.230094 -0.248974 -0.258201    0.813904            0.0   \n",
       "15727 -0.242308 -0.259715 -0.271763    0.813904            0.0   \n",
       "15728 -0.249493 -0.232864 -0.238379    0.813904            1.0   \n",
       "15729 -0.256677 -0.277616 -0.287411    0.813904            1.0   \n",
       "\n",
       "       maincateg_Women  maincateg_nan  platform_Amazon  platform_Flipkart  \n",
       "0                  1.0            0.0              0.0                1.0  \n",
       "1                  0.0            0.0              0.0                1.0  \n",
       "2                  1.0            0.0              0.0                1.0  \n",
       "3                  0.0            0.0              0.0                1.0  \n",
       "4                  0.0            0.0              0.0                1.0  \n",
       "...                ...            ...              ...                ...  \n",
       "15725              1.0            0.0              0.0                1.0  \n",
       "15726              1.0            0.0              0.0                1.0  \n",
       "15727              1.0            0.0              0.0                1.0  \n",
       "15728              0.0            0.0              1.0                0.0  \n",
       "15729              0.0            0.0              0.0                1.0  \n",
       "\n",
       "[15730 rows x 15 columns]"
      ]
     },
     "execution_count": 35,
     "metadata": {},
     "output_type": "execute_result"
    }
   ],
   "source": [
    "X_input=X.drop(columns=[\"maincateg\",\"platform\"])\n",
    "X_input"
   ]
  },
  {
   "cell_type": "markdown",
   "metadata": {},
   "source": [
    "# Split the dataset into train/test for model evalution"
   ]
  },
  {
   "cell_type": "code",
   "execution_count": 36,
   "metadata": {
    "execution": {
     "iopub.execute_input": "2022-07-09T17:46:46.120377Z",
     "iopub.status.busy": "2022-07-09T17:46:46.119932Z",
     "iopub.status.idle": "2022-07-09T17:46:46.125416Z",
     "shell.execute_reply": "2022-07-09T17:46:46.124333Z",
     "shell.execute_reply.started": "2022-07-09T17:46:46.120331Z"
    }
   },
   "outputs": [],
   "source": [
    "from sklearn.model_selection import train_test_split "
   ]
  },
  {
   "cell_type": "code",
   "execution_count": 37,
   "metadata": {
    "execution": {
     "iopub.execute_input": "2022-07-09T17:46:46.128144Z",
     "iopub.status.busy": "2022-07-09T17:46:46.127329Z",
     "iopub.status.idle": "2022-07-09T17:46:46.142358Z",
     "shell.execute_reply": "2022-07-09T17:46:46.140917Z",
     "shell.execute_reply.started": "2022-07-09T17:46:46.128098Z"
    }
   },
   "outputs": [],
   "source": [
    "X_train,X_test,y_train,y_test=train_test_split(X_input,y,test_size=0.4,random_state=42)"
   ]
  },
  {
   "cell_type": "code",
   "execution_count": 38,
   "metadata": {
    "execution": {
     "iopub.execute_input": "2022-07-09T17:46:46.144596Z",
     "iopub.status.busy": "2022-07-09T17:46:46.143830Z",
     "iopub.status.idle": "2022-07-09T17:46:46.150724Z",
     "shell.execute_reply": "2022-07-09T17:46:46.149709Z",
     "shell.execute_reply.started": "2022-07-09T17:46:46.144559Z"
    }
   },
   "outputs": [
    {
     "name": "stdout",
     "output_type": "stream",
     "text": [
      "X_train (9438, 15)\n",
      "X_test (6292, 15)\n",
      "y_train (9438,)\n",
      "y_test (6292,)\n"
     ]
    }
   ],
   "source": [
    "print(\"X_train\",X_train.shape)\n",
    "print(\"X_test\",X_test.shape)\n",
    "print(\"y_train\",y_train.shape)\n",
    "print(\"y_test\",y_test.shape)"
   ]
  },
  {
   "cell_type": "markdown",
   "metadata": {},
   "source": [
    "# Create a model with Randon Forest Algorithm"
   ]
  },
  {
   "cell_type": "code",
   "execution_count": 39,
   "metadata": {
    "execution": {
     "iopub.execute_input": "2022-07-09T17:46:46.153042Z",
     "iopub.status.busy": "2022-07-09T17:46:46.151924Z",
     "iopub.status.idle": "2022-07-09T17:46:46.164987Z",
     "shell.execute_reply": "2022-07-09T17:46:46.163893Z",
     "shell.execute_reply.started": "2022-07-09T17:46:46.153009Z"
    }
   },
   "outputs": [],
   "source": [
    "from sklearn.ensemble import RandomForestRegressor"
   ]
  },
  {
   "cell_type": "code",
   "execution_count": 40,
   "metadata": {
    "execution": {
     "iopub.execute_input": "2022-07-09T17:46:46.167237Z",
     "iopub.status.busy": "2022-07-09T17:46:46.166213Z",
     "iopub.status.idle": "2022-07-09T17:46:46.174134Z",
     "shell.execute_reply": "2022-07-09T17:46:46.173348Z",
     "shell.execute_reply.started": "2022-07-09T17:46:46.167204Z"
    }
   },
   "outputs": [],
   "source": [
    "model=RandomForestRegressor()"
   ]
  },
  {
   "cell_type": "code",
   "execution_count": 41,
   "metadata": {
    "execution": {
     "iopub.execute_input": "2022-07-09T17:46:46.175956Z",
     "iopub.status.busy": "2022-07-09T17:46:46.175323Z",
     "iopub.status.idle": "2022-07-09T17:46:51.618690Z",
     "shell.execute_reply": "2022-07-09T17:46:51.617517Z",
     "shell.execute_reply.started": "2022-07-09T17:46:46.175922Z"
    }
   },
   "outputs": [
    {
     "data": {
      "text/plain": [
       "RandomForestRegressor()"
      ]
     },
     "execution_count": 41,
     "metadata": {},
     "output_type": "execute_result"
    }
   ],
   "source": [
    "model.fit(X_train,y_train)"
   ]
  },
  {
   "cell_type": "code",
   "execution_count": 42,
   "metadata": {
    "execution": {
     "iopub.execute_input": "2022-07-09T17:46:51.620537Z",
     "iopub.status.busy": "2022-07-09T17:46:51.620163Z",
     "iopub.status.idle": "2022-07-09T17:46:51.791368Z",
     "shell.execute_reply": "2022-07-09T17:46:51.790023Z",
     "shell.execute_reply.started": "2022-07-09T17:46:51.620506Z"
    }
   },
   "outputs": [],
   "source": [
    "y_pred=model.predict(X_test)"
   ]
  },
  {
   "cell_type": "markdown",
   "metadata": {},
   "source": [
    "# Check model evalution"
   ]
  },
  {
   "cell_type": "code",
   "execution_count": 43,
   "metadata": {
    "execution": {
     "iopub.execute_input": "2022-07-09T17:46:51.793663Z",
     "iopub.status.busy": "2022-07-09T17:46:51.792850Z",
     "iopub.status.idle": "2022-07-09T17:46:51.798475Z",
     "shell.execute_reply": "2022-07-09T17:46:51.797524Z",
     "shell.execute_reply.started": "2022-07-09T17:46:51.793628Z"
    }
   },
   "outputs": [],
   "source": [
    "from sklearn.metrics import mean_squared_error"
   ]
  },
  {
   "cell_type": "code",
   "execution_count": 44,
   "metadata": {
    "execution": {
     "iopub.execute_input": "2022-07-09T17:46:51.800166Z",
     "iopub.status.busy": "2022-07-09T17:46:51.799872Z",
     "iopub.status.idle": "2022-07-09T17:46:51.809866Z",
     "shell.execute_reply": "2022-07-09T17:46:51.808790Z",
     "shell.execute_reply.started": "2022-07-09T17:46:51.800140Z"
    }
   },
   "outputs": [],
   "source": [
    "test_error=mean_squared_error(y_test,y_pred)"
   ]
  },
  {
   "cell_type": "code",
   "execution_count": 45,
   "metadata": {
    "execution": {
     "iopub.execute_input": "2022-07-09T17:46:51.811473Z",
     "iopub.status.busy": "2022-07-09T17:46:51.811150Z",
     "iopub.status.idle": "2022-07-09T17:46:52.049837Z",
     "shell.execute_reply": "2022-07-09T17:46:52.048694Z",
     "shell.execute_reply.started": "2022-07-09T17:46:51.811444Z"
    }
   },
   "outputs": [],
   "source": [
    "train_error=mean_squared_error(y_train,model.predict(X_train))"
   ]
  },
  {
   "cell_type": "code",
   "execution_count": 46,
   "metadata": {
    "execution": {
     "iopub.execute_input": "2022-07-09T17:46:52.051644Z",
     "iopub.status.busy": "2022-07-09T17:46:52.051281Z",
     "iopub.status.idle": "2022-07-09T17:46:52.058594Z",
     "shell.execute_reply": "2022-07-09T17:46:52.057331Z",
     "shell.execute_reply.started": "2022-07-09T17:46:52.051607Z"
    }
   },
   "outputs": [
    {
     "name": "stdout",
     "output_type": "stream",
     "text": [
      "train_model_error 6924.871317935821\n",
      "test_model_error 50145.23932452372\n"
     ]
    }
   ],
   "source": [
    "print(\"train_model_error\",train_error)\n",
    "print(\"test_model_error\",test_error)"
   ]
  },
  {
   "cell_type": "markdown",
   "metadata": {},
   "source": [
    "### We can easily see that train _model error is very low whereas test_model error is very high that means model is overfit now our job to reduce overfitting by hyperparameter tuning. Our purpose is to create a generalised model which is accurate for all type of data."
   ]
  },
  {
   "cell_type": "markdown",
   "metadata": {},
   "source": [
    "# Hyperparameter tuning for improve accuracy of test_model(created by random forest)"
   ]
  },
  {
   "cell_type": "code",
   "execution_count": 47,
   "metadata": {
    "execution": {
     "iopub.execute_input": "2022-07-09T17:46:52.060200Z",
     "iopub.status.busy": "2022-07-09T17:46:52.059893Z",
     "iopub.status.idle": "2022-07-09T17:50:47.100530Z",
     "shell.execute_reply": "2022-07-09T17:50:47.099503Z",
     "shell.execute_reply.started": "2022-07-09T17:46:52.060171Z"
    }
   },
   "outputs": [],
   "source": [
    "train_errs=[]\n",
    "test_errs=[]\n",
    "for k in range(1,50):\n",
    "    estimator=RandomForestRegressor(max_depth=k)\n",
    "    estimator.fit(X_train,y_train)\n",
    "    train_err=mean_squared_error(y_train,estimator.predict(X_train))\n",
    "    test_err=mean_squared_error(y_test,estimator.predict(X_test))\n",
    "    train_errs.append(train_err)\n",
    "    test_errs.append(test_err)"
   ]
  },
  {
   "cell_type": "code",
   "execution_count": 48,
   "metadata": {
    "execution": {
     "iopub.execute_input": "2022-07-09T17:50:47.102347Z",
     "iopub.status.busy": "2022-07-09T17:50:47.101995Z",
     "iopub.status.idle": "2022-07-09T17:50:47.331050Z",
     "shell.execute_reply": "2022-07-09T17:50:47.329939Z",
     "shell.execute_reply.started": "2022-07-09T17:50:47.102316Z"
    }
   },
   "outputs": [
    {
     "data": {
      "text/plain": [
       "<matplotlib.legend.Legend at 0x21ff10fd820>"
      ]
     },
     "execution_count": 48,
     "metadata": {},
     "output_type": "execute_result"
    },
    {
     "data": {
      "image/png": "[encoded data removed]",
      "text/plain": [
       "<Figure size 720x576 with 1 Axes>"
      ]
     },
     "metadata": {
      "needs_background": "light"
     },
     "output_type": "display_data"
    }
   ],
   "source": [
    "plt.figure(figsize=(10,8))\n",
    "plt.plot(range(1,50),train_errs)\n",
    "plt.plot(range(1,50),test_errs)\n",
    "plt.title(\"error vs.depth\")\n",
    "plt.xlabel(\"max_depth\")\n",
    "plt.ylabel(\"error\")\n",
    "plt.legend([\"train\",\"test\"])"
   ]
  },
  {
   "cell_type": "markdown",
   "metadata": {},
   "source": [
    "### We can easily see that at initial stage both train and test error reducing but after max_depth=22 test model error increasing approx flat so we can say that max_depth=22 is trade off that's means best parameter of generalised model. "
   ]
  },
  {
   "cell_type": "code",
   "execution_count": 49,
   "metadata": {
    "execution": {
     "iopub.execute_input": "2022-07-09T17:50:47.332587Z",
     "iopub.status.busy": "2022-07-09T17:50:47.332285Z",
     "iopub.status.idle": "2022-07-09T17:50:52.812747Z",
     "shell.execute_reply": "2022-07-09T17:50:52.811569Z",
     "shell.execute_reply.started": "2022-07-09T17:50:47.332561Z"
    }
   },
   "outputs": [
    {
     "data": {
      "text/plain": [
       "RandomForestRegressor(max_depth=22, random_state=42)"
      ]
     },
     "execution_count": 49,
     "metadata": {},
     "output_type": "execute_result"
    }
   ],
   "source": [
    "best_model=RandomForestRegressor(max_depth=22,random_state=42)\n",
    "best_model.fit(X_train,y_train)"
   ]
  },
  {
   "cell_type": "code",
   "execution_count": 50,
   "metadata": {
    "execution": {
     "iopub.execute_input": "2022-07-09T17:50:52.814688Z",
     "iopub.status.busy": "2022-07-09T17:50:52.814373Z",
     "iopub.status.idle": "2022-07-09T17:50:52.982367Z",
     "shell.execute_reply": "2022-07-09T17:50:52.981344Z",
     "shell.execute_reply.started": "2022-07-09T17:50:52.814662Z"
    }
   },
   "outputs": [],
   "source": [
    "test_errs=mean_squared_error(y_test,best_model.predict(X_test))"
   ]
  },
  {
   "cell_type": "code",
   "execution_count": 51,
   "metadata": {
    "execution": {
     "iopub.execute_input": "2022-07-09T17:50:52.984252Z",
     "iopub.status.busy": "2022-07-09T17:50:52.983954Z",
     "iopub.status.idle": "2022-07-09T17:50:52.991151Z",
     "shell.execute_reply": "2022-07-09T17:50:52.989873Z",
     "shell.execute_reply.started": "2022-07-09T17:50:52.984226Z"
    }
   },
   "outputs": [
    {
     "data": {
      "text/plain": [
       "50048.84332425901"
      ]
     },
     "execution_count": 51,
     "metadata": {},
     "output_type": "execute_result"
    }
   ],
   "source": [
    "test_errs"
   ]
  },
  {
   "cell_type": "markdown",
   "metadata": {},
   "source": [
    "# Create a model with decission tree algorithm"
   ]
  },
  {
   "cell_type": "code",
   "execution_count": 52,
   "metadata": {},
   "outputs": [],
   "source": [
    "from sklearn.tree import DecisionTreeRegressor"
   ]
  },
  {
   "cell_type": "code",
   "execution_count": 53,
   "metadata": {},
   "outputs": [],
   "source": [
    "model1=DecisionTreeRegressor()"
   ]
  },
  {
   "cell_type": "code",
   "execution_count": 54,
   "metadata": {},
   "outputs": [
    {
     "data": {
      "text/plain": [
       "DecisionTreeRegressor()"
      ]
     },
     "execution_count": 54,
     "metadata": {},
     "output_type": "execute_result"
    }
   ],
   "source": [
    "model1.fit(X_train,y_train)"
   ]
  },
  {
   "cell_type": "code",
   "execution_count": 55,
   "metadata": {},
   "outputs": [],
   "source": [
    "model1_train_err=mean_squared_error(y_train,model1.predict(X_train))\n",
    "model1_test_err=mean_squared_error(y_test,model1.predict(X_test))"
   ]
  },
  {
   "cell_type": "code",
   "execution_count": 56,
   "metadata": {},
   "outputs": [
    {
     "name": "stdout",
     "output_type": "stream",
     "text": [
      "model1_train_err 529.0397966511604\n",
      "model1_test_err 82948.83491980021\n"
     ]
    }
   ],
   "source": [
    "print(\"model1_train_err\",model1_train_err)\n",
    "print(\"model1_test_err\",model1_test_err)"
   ]
  },
  {
   "cell_type": "markdown",
   "metadata": {},
   "source": [
    "# Hyperparameter tuning for impovement test_model1(created by decission tree) accuracy"
   ]
  },
  {
   "cell_type": "code",
   "execution_count": 57,
   "metadata": {},
   "outputs": [],
   "source": [
    "train_errs=[]\n",
    "test_errs=[]\n",
    "for k in range(1,50):\n",
    "    estimator=DecisionTreeRegressor(max_depth=k)\n",
    "    estimator.fit(X_train,y_train)\n",
    "    train_err=mean_squared_error(y_train,estimator.predict(X_train))\n",
    "    test_err=mean_squared_error(y_test,estimator.predict(X_test))\n",
    "    train_errs.append(train_err)\n",
    "    test_errs.append(test_err)"
   ]
  },
  {
   "cell_type": "code",
   "execution_count": 58,
   "metadata": {},
   "outputs": [
    {
     "data": {
      "text/plain": [
       "<matplotlib.legend.Legend at 0x21ff10fdca0>"
      ]
     },
     "execution_count": 58,
     "metadata": {},
     "output_type": "execute_result"
    },
    {
     "data": {
      "image/png": "[encoded data removed]",
      "text/plain": [
       "<Figure size 720x576 with 1 Axes>"
      ]
     },
     "metadata": {
      "needs_background": "light"
     },
     "output_type": "display_data"
    }
   ],
   "source": [
    "plt.figure(figsize=(10,8))\n",
    "plt.plot(range(1,50),train_errs)\n",
    "plt.plot(range(1,50),test_errs)\n",
    "plt.title(\"model1_error vs.depth\")\n",
    "plt.xlabel(\"max_depth\")\n",
    "plt.ylabel(\"error\")\n",
    "plt.legend([\"train\",\"test\"])"
   ]
  },
  {
   "cell_type": "code",
   "execution_count": 59,
   "metadata": {},
   "outputs": [
    {
     "data": {
      "text/plain": [
       "DecisionTreeRegressor(max_depth=30)"
      ]
     },
     "execution_count": 59,
     "metadata": {},
     "output_type": "execute_result"
    }
   ],
   "source": [
    "best_model1=DecisionTreeRegressor(max_depth=30)\n",
    "best_model1.fit(X_train,y_train)"
   ]
  },
  {
   "cell_type": "code",
   "execution_count": 60,
   "metadata": {},
   "outputs": [
    {
     "data": {
      "text/plain": [
       "86375.41214577554"
      ]
     },
     "execution_count": 60,
     "metadata": {},
     "output_type": "execute_result"
    }
   ],
   "source": [
    "mean_squared_error(y_test,best_model1.predict(X_test))"
   ]
  },
  {
   "cell_type": "markdown",
   "metadata": {},
   "source": [
    "# Create a model with linear regression algorithm"
   ]
  },
  {
   "cell_type": "code",
   "execution_count": 61,
   "metadata": {},
   "outputs": [],
   "source": [
    "from sklearn.linear_model import LinearRegression"
   ]
  },
  {
   "cell_type": "code",
   "execution_count": 62,
   "metadata": {},
   "outputs": [],
   "source": [
    "model2=LinearRegression()"
   ]
  },
  {
   "cell_type": "code",
   "execution_count": 63,
   "metadata": {},
   "outputs": [
    {
     "data": {
      "text/plain": [
       "LinearRegression()"
      ]
     },
     "execution_count": 63,
     "metadata": {},
     "output_type": "execute_result"
    }
   ],
   "source": [
    "model2.fit(X_train,y_train)"
   ]
  },
  {
   "cell_type": "code",
   "execution_count": 64,
   "metadata": {},
   "outputs": [],
   "source": [
    "model2_train_err=mean_squared_error(y_train,model2.predict(X_train))\n",
    "model2_test_err=mean_squared_error(y_test,model2.predict(X_test))"
   ]
  },
  {
   "cell_type": "code",
   "execution_count": 65,
   "metadata": {},
   "outputs": [
    {
     "name": "stdout",
     "output_type": "stream",
     "text": [
      "model2_train_err 81353.01620872269\n",
      "model2_test_err 86477.17165347897\n"
     ]
    }
   ],
   "source": [
    "print(\"model2_train_err\",model2_train_err)\n",
    "print(\"model2_test_err\",model2_test_err)"
   ]
  },
  {
   "cell_type": "markdown",
   "metadata": {},
   "source": [
    "# Apply Regularization for improve test_model2(created by linear regression ) accuracy"
   ]
  },
  {
   "cell_type": "code",
   "execution_count": 66,
   "metadata": {},
   "outputs": [],
   "source": [
    "from sklearn.linear_model import Ridge"
   ]
  },
  {
   "cell_type": "code",
   "execution_count": 67,
   "metadata": {},
   "outputs": [
    {
     "data": {
      "text/plain": [
       "Ridge()"
      ]
     },
     "execution_count": 67,
     "metadata": {},
     "output_type": "execute_result"
    }
   ],
   "source": [
    "model2_impv=Ridge()\n",
    "model2_impv.fit(X_train,y_train)"
   ]
  },
  {
   "cell_type": "code",
   "execution_count": 68,
   "metadata": {},
   "outputs": [],
   "source": [
    "model2_impv_train_err=mean_squared_error(y_train,model2_impv.predict(X_train))\n",
    "model2_impv_test_err=mean_squared_error(y_test,model2_impv.predict(X_test))"
   ]
  },
  {
   "cell_type": "code",
   "execution_count": 69,
   "metadata": {},
   "outputs": [
    {
     "name": "stdout",
     "output_type": "stream",
     "text": [
      "model2_impv_train_err 81353.05761631549\n",
      "model2_impv_test_err 86472.543269213\n"
     ]
    }
   ],
   "source": [
    "print(\"model2_impv_train_err\",model2_impv_train_err)\n",
    "print(\"model2_impv_test_err\",model2_impv_test_err)"
   ]
  },
  {
   "cell_type": "markdown",
   "metadata": {},
   "source": [
    "# Hyperparameter tuning to improve test_model2(created by linear regression) accuracy"
   ]
  },
  {
   "cell_type": "code",
   "execution_count": 70,
   "metadata": {},
   "outputs": [],
   "source": [
    "train_errs=[]\n",
    "test_errs=[]\n",
    "for k in range(1,30):\n",
    "    estimator=Ridge(alpha=k)\n",
    "    estimator.fit(X_train,y_train)\n",
    "    train_err=mean_squared_error(y_train,estimator.predict(X_train))\n",
    "    test_err=mean_squared_error(y_test,estimator.predict(X_test))\n",
    "    train_errs.append(train_err)\n",
    "    test_errs.append(test_err)"
   ]
  },
  {
   "cell_type": "code",
   "execution_count": 71,
   "metadata": {},
   "outputs": [
    {
     "data": {
      "text/plain": [
       "<matplotlib.legend.Legend at 0x21ff120e820>"
      ]
     },
     "execution_count": 71,
     "metadata": {},
     "output_type": "execute_result"
    },
    {
     "data": {
      "image/png": "[encoded data removed]",
      "text/plain": [
       "<Figure size 720x576 with 1 Axes>"
      ]
     },
     "metadata": {
      "needs_background": "light"
     },
     "output_type": "display_data"
    }
   ],
   "source": [
    "plt.figure(figsize=(10,8))\n",
    "plt.plot(range(1,30),train_errs)\n",
    "plt.plot(range(1,30),test_errs)\n",
    "plt.title(\"model1_error vs.depth\")\n",
    "plt.xlabel(\"max_depth\")\n",
    "plt.ylabel(\"error\")\n",
    "plt.legend([\"train\",\"test\"])"
   ]
  },
  {
   "cell_type": "markdown",
   "metadata": {},
   "source": [
    "# Create a model with gradient boosting"
   ]
  },
  {
   "cell_type": "code",
   "execution_count": 72,
   "metadata": {},
   "outputs": [],
   "source": [
    "from sklearn.ensemble import GradientBoostingRegressor"
   ]
  },
  {
   "cell_type": "code",
   "execution_count": 73,
   "metadata": {},
   "outputs": [],
   "source": [
    "gbr=GradientBoostingRegressor()"
   ]
  },
  {
   "cell_type": "code",
   "execution_count": 74,
   "metadata": {},
   "outputs": [
    {
     "data": {
      "text/plain": [
       "GradientBoostingRegressor()"
      ]
     },
     "execution_count": 74,
     "metadata": {},
     "output_type": "execute_result"
    }
   ],
   "source": [
    "gbr.fit(X_train,y_train)"
   ]
  },
  {
   "cell_type": "code",
   "execution_count": 75,
   "metadata": {},
   "outputs": [],
   "source": [
    "gbr_train_err=mean_squared_error(y_train,gbr.predict(X_train))\n",
    "gbr_test_err=mean_squared_error(y_test,gbr.predict(X_test))"
   ]
  },
  {
   "cell_type": "code",
   "execution_count": 76,
   "metadata": {},
   "outputs": [
    {
     "name": "stdout",
     "output_type": "stream",
     "text": [
      "gbr_train_err 55369.042179116426\n",
      "gbr_test_err 71929.16985602591\n"
     ]
    }
   ],
   "source": [
    "print(\"gbr_train_err\",gbr_train_err)\n",
    "print(\"gbr_test_err\",gbr_test_err)"
   ]
  },
  {
   "cell_type": "markdown",
   "metadata": {},
   "source": [
    "# Hyperparameter tuning for improve test model (created by gradient boosting) accuracy"
   ]
  },
  {
   "cell_type": "code",
   "execution_count": 77,
   "metadata": {},
   "outputs": [],
   "source": [
    "train_errs=[]\n",
    "test_errs=[]\n",
    "for k in range(1,30):\n",
    "    estimator=GradientBoostingRegressor()\n",
    "    estimator.fit(X_train,y_train)\n",
    "    train_err=mean_squared_error(y_train,estimator.predict(X_train))\n",
    "    test_err=mean_squared_error(y_test,estimator.predict(X_test))\n",
    "    train_errs.append(train_err)\n",
    "    test_errs.append(test_err)"
   ]
  },
  {
   "cell_type": "code",
   "execution_count": 78,
   "metadata": {},
   "outputs": [],
   "source": [
    "parameters = {\n",
    "    \"n_estimators\":[5,50,250,500],\n",
    "    \"max_depth\":[1,3,5,7,9],\n",
    "    \"learning_rate\":[0.01,0.1,1,10,100]\n",
    "}"
   ]
  },
  {
   "cell_type": "code",
   "execution_count": 79,
   "metadata": {},
   "outputs": [],
   "source": [
    "from sklearn.model_selection import GridSearchCV"
   ]
  },
  {
   "cell_type": "code",
   "execution_count": 80,
   "metadata": {},
   "outputs": [],
   "source": [
    "gb=GradientBoostingRegressor()"
   ]
  },
  {
   "cell_type": "code",
   "execution_count": 81,
   "metadata": {},
   "outputs": [],
   "source": [
    "gcv=GridSearchCV(gb,parameters,cv=5,scoring=\"neg_mean_squared_error\")"
   ]
  },
  {
   "cell_type": "code",
   "execution_count": null,
   "metadata": {},
   "outputs": [],
   "source": [
    "gcv.fit(X_input,y)"
   ]
  },
  {
   "cell_type": "code",
   "execution_count": null,
   "metadata": {},
   "outputs": [],
   "source": []
  },
  {
   "cell_type": "code",
   "execution_count": null,
   "metadata": {},
   "outputs": [],
   "source": []
  },
  {
   "cell_type": "code",
   "execution_count": null,
   "metadata": {},
   "outputs": [],
   "source": []
  },
  {
   "cell_type": "markdown",
   "metadata": {},
   "source": [
    "# now apply the model on test datasets"
   ]
  },
  {
   "cell_type": "code",
   "execution_count": 83,
   "metadata": {
    "execution": {
     "iopub.execute_input": "2022-07-09T17:50:52.993310Z",
     "iopub.status.busy": "2022-07-09T17:50:52.992578Z",
     "iopub.status.idle": "2022-07-09T17:50:53.023977Z",
     "shell.execute_reply": "2022-07-09T17:50:53.022894Z",
     "shell.execute_reply.started": "2022-07-09T17:50:52.993260Z"
    }
   },
   "outputs": [
    {
     "data": {
      "text/html": [
       "<div>\n",
       "<style scoped>\n",
       "    .dataframe tbody tr th:only-of-type {\n",
       "        vertical-align: middle;\n",
       "    }\n",
       "\n",
       "    .dataframe tbody tr th {\n",
       "        vertical-align: top;\n",
       "    }\n",
       "\n",
       "    .dataframe thead th {\n",
       "        text-align: right;\n",
       "    }\n",
       "</style>\n",
       "<table border=\"1\" class=\"dataframe\">\n",
       "  <thead>\n",
       "    <tr style=\"text-align: right;\">\n",
       "      <th></th>\n",
       "      <th>id</th>\n",
       "      <th>title</th>\n",
       "      <th>Rating</th>\n",
       "      <th>maincateg</th>\n",
       "      <th>platform</th>\n",
       "      <th>actprice1</th>\n",
       "      <th>norating1</th>\n",
       "      <th>noreviews1</th>\n",
       "      <th>star_5f</th>\n",
       "      <th>star_4f</th>\n",
       "      <th>star_3f</th>\n",
       "      <th>star_2f</th>\n",
       "      <th>star_1f</th>\n",
       "      <th>fulfilled1</th>\n",
       "    </tr>\n",
       "  </thead>\n",
       "  <tbody>\n",
       "    <tr>\n",
       "      <th>0</th>\n",
       "      <td>2242</td>\n",
       "      <td>Casuals For Men  (Blue)</td>\n",
       "      <td>3.8</td>\n",
       "      <td>Men</td>\n",
       "      <td>Flipkart</td>\n",
       "      <td>999</td>\n",
       "      <td>27928</td>\n",
       "      <td>3543</td>\n",
       "      <td>14238.0</td>\n",
       "      <td>4295</td>\n",
       "      <td>3457</td>\n",
       "      <td>1962</td>\n",
       "      <td>3976.0</td>\n",
       "      <td>1</td>\n",
       "    </tr>\n",
       "    <tr>\n",
       "      <th>1</th>\n",
       "      <td>20532</td>\n",
       "      <td>Women Black Flats Sandal</td>\n",
       "      <td>3.9</td>\n",
       "      <td>Women</td>\n",
       "      <td>Flipkart</td>\n",
       "      <td>499</td>\n",
       "      <td>3015</td>\n",
       "      <td>404</td>\n",
       "      <td>1458.0</td>\n",
       "      <td>657</td>\n",
       "      <td>397</td>\n",
       "      <td>182</td>\n",
       "      <td>321.0</td>\n",
       "      <td>1</td>\n",
       "    </tr>\n",
       "    <tr>\n",
       "      <th>2</th>\n",
       "      <td>10648</td>\n",
       "      <td>Women Gold Wedges Sandal</td>\n",
       "      <td>3.9</td>\n",
       "      <td>Women</td>\n",
       "      <td>Flipkart</td>\n",
       "      <td>999</td>\n",
       "      <td>449</td>\n",
       "      <td>52</td>\n",
       "      <td>229.0</td>\n",
       "      <td>70</td>\n",
       "      <td>71</td>\n",
       "      <td>33</td>\n",
       "      <td>46.0</td>\n",
       "      <td>1</td>\n",
       "    </tr>\n",
       "    <tr>\n",
       "      <th>3</th>\n",
       "      <td>20677</td>\n",
       "      <td>Men's Height Increasing High Heel Formal Party...</td>\n",
       "      <td>3.9</td>\n",
       "      <td>Men</td>\n",
       "      <td>Flipkart</td>\n",
       "      <td>2999</td>\n",
       "      <td>290</td>\n",
       "      <td>40</td>\n",
       "      <td>141.0</td>\n",
       "      <td>51</td>\n",
       "      <td>49</td>\n",
       "      <td>17</td>\n",
       "      <td>32.0</td>\n",
       "      <td>1</td>\n",
       "    </tr>\n",
       "    <tr>\n",
       "      <th>4</th>\n",
       "      <td>12593</td>\n",
       "      <td>Loafers For Men  (Tan)</td>\n",
       "      <td>3.9</td>\n",
       "      <td>Men</td>\n",
       "      <td>Flipkart</td>\n",
       "      <td>999</td>\n",
       "      <td>2423</td>\n",
       "      <td>326</td>\n",
       "      <td>1265.0</td>\n",
       "      <td>414</td>\n",
       "      <td>293</td>\n",
       "      <td>143</td>\n",
       "      <td>308.0</td>\n",
       "      <td>0</td>\n",
       "    </tr>\n",
       "    <tr>\n",
       "      <th>...</th>\n",
       "      <td>...</td>\n",
       "      <td>...</td>\n",
       "      <td>...</td>\n",
       "      <td>...</td>\n",
       "      <td>...</td>\n",
       "      <td>...</td>\n",
       "      <td>...</td>\n",
       "      <td>...</td>\n",
       "      <td>...</td>\n",
       "      <td>...</td>\n",
       "      <td>...</td>\n",
       "      <td>...</td>\n",
       "      <td>...</td>\n",
       "      <td>...</td>\n",
       "    </tr>\n",
       "    <tr>\n",
       "      <th>5239</th>\n",
       "      <td>14033</td>\n",
       "      <td>Women Off White Flats Sandal</td>\n",
       "      <td>NaN</td>\n",
       "      <td>Women</td>\n",
       "      <td>Flipkart</td>\n",
       "      <td>699</td>\n",
       "      <td>1235</td>\n",
       "      <td>153</td>\n",
       "      <td>NaN</td>\n",
       "      <td>323</td>\n",
       "      <td>155</td>\n",
       "      <td>62</td>\n",
       "      <td>NaN</td>\n",
       "      <td>1</td>\n",
       "    </tr>\n",
       "    <tr>\n",
       "      <th>5240</th>\n",
       "      <td>297</td>\n",
       "      <td>Slip On For Men  (Tan)</td>\n",
       "      <td>3.9</td>\n",
       "      <td>Men</td>\n",
       "      <td>Flipkart</td>\n",
       "      <td>1993</td>\n",
       "      <td>329</td>\n",
       "      <td>56</td>\n",
       "      <td>350.0</td>\n",
       "      <td>37</td>\n",
       "      <td>60</td>\n",
       "      <td>5</td>\n",
       "      <td>37.0</td>\n",
       "      <td>0</td>\n",
       "    </tr>\n",
       "    <tr>\n",
       "      <th>5241</th>\n",
       "      <td>18733</td>\n",
       "      <td>Women Grey Heels Sandal</td>\n",
       "      <td>3.8</td>\n",
       "      <td>Women</td>\n",
       "      <td>Flipkart</td>\n",
       "      <td>999</td>\n",
       "      <td>1280</td>\n",
       "      <td>135</td>\n",
       "      <td>574.0</td>\n",
       "      <td>290</td>\n",
       "      <td>172</td>\n",
       "      <td>94</td>\n",
       "      <td>150.0</td>\n",
       "      <td>0</td>\n",
       "    </tr>\n",
       "    <tr>\n",
       "      <th>5242</th>\n",
       "      <td>6162</td>\n",
       "      <td>Womens Casual Comfort Stylish Black High Heel ...</td>\n",
       "      <td>3.9</td>\n",
       "      <td>Women</td>\n",
       "      <td>Flipkart</td>\n",
       "      <td>499</td>\n",
       "      <td>4867</td>\n",
       "      <td>574</td>\n",
       "      <td>2384.0</td>\n",
       "      <td>974</td>\n",
       "      <td>648</td>\n",
       "      <td>328</td>\n",
       "      <td>533.0</td>\n",
       "      <td>0</td>\n",
       "    </tr>\n",
       "    <tr>\n",
       "      <th>5243</th>\n",
       "      <td>13574</td>\n",
       "      <td>ZAPATOZ Women's Casual PU Leather Sneaker Shoes</td>\n",
       "      <td>3.9</td>\n",
       "      <td>Women</td>\n",
       "      <td>Amazon</td>\n",
       "      <td>749</td>\n",
       "      <td>8</td>\n",
       "      <td>5</td>\n",
       "      <td>28.0</td>\n",
       "      <td>0</td>\n",
       "      <td>0</td>\n",
       "      <td>0</td>\n",
       "      <td>72.0</td>\n",
       "      <td>1</td>\n",
       "    </tr>\n",
       "  </tbody>\n",
       "</table>\n",
       "<p>5244 rows × 14 columns</p>\n",
       "</div>"
      ],
      "text/plain": [
       "         id                                              title  Rating  \\\n",
       "0      2242                            Casuals For Men  (Blue)     3.8   \n",
       "1     20532                           Women Black Flats Sandal     3.9   \n",
       "2     10648                           Women Gold Wedges Sandal     3.9   \n",
       "3     20677  Men's Height Increasing High Heel Formal Party...     3.9   \n",
       "4     12593                             Loafers For Men  (Tan)     3.9   \n",
       "...     ...                                                ...     ...   \n",
       "5239  14033                       Women Off White Flats Sandal     NaN   \n",
       "5240    297                             Slip On For Men  (Tan)     3.9   \n",
       "5241  18733                            Women Grey Heels Sandal     3.8   \n",
       "5242   6162  Womens Casual Comfort Stylish Black High Heel ...     3.9   \n",
       "5243  13574    ZAPATOZ Women's Casual PU Leather Sneaker Shoes     3.9   \n",
       "\n",
       "     maincateg  platform  actprice1  norating1  noreviews1  star_5f  star_4f  \\\n",
       "0          Men  Flipkart        999      27928        3543  14238.0     4295   \n",
       "1        Women  Flipkart        499       3015         404   1458.0      657   \n",
       "2        Women  Flipkart        999        449          52    229.0       70   \n",
       "3          Men  Flipkart       2999        290          40    141.0       51   \n",
       "4          Men  Flipkart        999       2423         326   1265.0      414   \n",
       "...        ...       ...        ...        ...         ...      ...      ...   \n",
       "5239     Women  Flipkart        699       1235         153      NaN      323   \n",
       "5240       Men  Flipkart       1993        329          56    350.0       37   \n",
       "5241     Women  Flipkart        999       1280         135    574.0      290   \n",
       "5242     Women  Flipkart        499       4867         574   2384.0      974   \n",
       "5243     Women    Amazon        749          8           5     28.0        0   \n",
       "\n",
       "      star_3f  star_2f  star_1f  fulfilled1  \n",
       "0        3457     1962   3976.0           1  \n",
       "1         397      182    321.0           1  \n",
       "2          71       33     46.0           1  \n",
       "3          49       17     32.0           1  \n",
       "4         293      143    308.0           0  \n",
       "...       ...      ...      ...         ...  \n",
       "5239      155       62      NaN           1  \n",
       "5240       60        5     37.0           0  \n",
       "5241      172       94    150.0           0  \n",
       "5242      648      328    533.0           0  \n",
       "5243        0        0     72.0           1  \n",
       "\n",
       "[5244 rows x 14 columns]"
      ]
     },
     "execution_count": 83,
     "metadata": {},
     "output_type": "execute_result"
    }
   ],
   "source": [
    "test_df"
   ]
  },
  {
   "cell_type": "markdown",
   "metadata": {},
   "source": [
    "# Preprocessing of test datasets"
   ]
  },
  {
   "cell_type": "code",
   "execution_count": 84,
   "metadata": {
    "execution": {
     "iopub.execute_input": "2022-07-09T17:50:53.026372Z",
     "iopub.status.busy": "2022-07-09T17:50:53.025922Z",
     "iopub.status.idle": "2022-07-09T17:50:53.054049Z",
     "shell.execute_reply": "2022-07-09T17:50:53.052870Z",
     "shell.execute_reply.started": "2022-07-09T17:50:53.026333Z"
    }
   },
   "outputs": [],
   "source": [
    "test_df[X_num.columns]=imputer.fit_transform(test_df[X_num.columns])\n",
    "test_df[X_num.columns]=scaler.fit_transform(test_df[X_num.columns])\n",
    "test_df[encoder.get_feature_names_out(X_cat.columns)]=encoder.fit_transform(test_df[X_cat.columns])"
   ]
  },
  {
   "cell_type": "code",
   "execution_count": 85,
   "metadata": {
    "execution": {
     "iopub.execute_input": "2022-07-09T17:50:53.055603Z",
     "iopub.status.busy": "2022-07-09T17:50:53.055257Z",
     "iopub.status.idle": "2022-07-09T17:50:53.062857Z",
     "shell.execute_reply": "2022-07-09T17:50:53.062027Z",
     "shell.execute_reply.started": "2022-07-09T17:50:53.055574Z"
    }
   },
   "outputs": [],
   "source": [
    "test_input=test_df.drop(columns=[\"id\",\"title\",\"maincateg\",\"platform\",])"
   ]
  },
  {
   "cell_type": "code",
   "execution_count": 86,
   "metadata": {
    "execution": {
     "iopub.execute_input": "2022-07-09T17:50:53.065308Z",
     "iopub.status.busy": "2022-07-09T17:50:53.064112Z",
     "iopub.status.idle": "2022-07-09T17:50:53.097046Z",
     "shell.execute_reply": "2022-07-09T17:50:53.095791Z",
     "shell.execute_reply.started": "2022-07-09T17:50:53.065258Z"
    }
   },
   "outputs": [
    {
     "data": {
      "text/html": [
       "<div>\n",
       "<style scoped>\n",
       "    .dataframe tbody tr th:only-of-type {\n",
       "        vertical-align: middle;\n",
       "    }\n",
       "\n",
       "    .dataframe tbody tr th {\n",
       "        vertical-align: top;\n",
       "    }\n",
       "\n",
       "    .dataframe thead th {\n",
       "        text-align: right;\n",
       "    }\n",
       "</style>\n",
       "<table border=\"1\" class=\"dataframe\">\n",
       "  <thead>\n",
       "    <tr style=\"text-align: right;\">\n",
       "      <th></th>\n",
       "      <th>Rating</th>\n",
       "      <th>actprice1</th>\n",
       "      <th>norating1</th>\n",
       "      <th>noreviews1</th>\n",
       "      <th>star_5f</th>\n",
       "      <th>star_4f</th>\n",
       "      <th>star_3f</th>\n",
       "      <th>star_2f</th>\n",
       "      <th>star_1f</th>\n",
       "      <th>fulfilled1</th>\n",
       "      <th>maincateg_Men</th>\n",
       "      <th>maincateg_Women</th>\n",
       "      <th>maincateg_nan</th>\n",
       "      <th>platform_Amazon</th>\n",
       "      <th>platform_Flipkart</th>\n",
       "    </tr>\n",
       "  </thead>\n",
       "  <tbody>\n",
       "    <tr>\n",
       "      <th>0</th>\n",
       "      <td>-0.713176</td>\n",
       "      <td>-0.296490</td>\n",
       "      <td>1.936287</td>\n",
       "      <td>1.636973</td>\n",
       "      <td>1.938831e+00</td>\n",
       "      <td>1.222161</td>\n",
       "      <td>1.899232</td>\n",
       "      <td>2.959104</td>\n",
       "      <td>3.645587</td>\n",
       "      <td>0.808863</td>\n",
       "      <td>1.0</td>\n",
       "      <td>0.0</td>\n",
       "      <td>0.0</td>\n",
       "      <td>0.0</td>\n",
       "      <td>1.0</td>\n",
       "    </tr>\n",
       "    <tr>\n",
       "      <th>1</th>\n",
       "      <td>-0.375321</td>\n",
       "      <td>-0.686960</td>\n",
       "      <td>0.002051</td>\n",
       "      <td>-0.006015</td>\n",
       "      <td>-1.520466e-02</td>\n",
       "      <td>0.005756</td>\n",
       "      <td>0.024895</td>\n",
       "      <td>0.045601</td>\n",
       "      <td>0.049783</td>\n",
       "      <td>0.808863</td>\n",
       "      <td>0.0</td>\n",
       "      <td>1.0</td>\n",
       "      <td>0.0</td>\n",
       "      <td>0.0</td>\n",
       "      <td>1.0</td>\n",
       "    </tr>\n",
       "    <tr>\n",
       "      <th>2</th>\n",
       "      <td>-0.375321</td>\n",
       "      <td>-0.296490</td>\n",
       "      <td>-0.197172</td>\n",
       "      <td>-0.190255</td>\n",
       "      <td>-2.031163e-01</td>\n",
       "      <td>-0.190514</td>\n",
       "      <td>-0.174789</td>\n",
       "      <td>-0.198282</td>\n",
       "      <td>-0.220764</td>\n",
       "      <td>0.808863</td>\n",
       "      <td>0.0</td>\n",
       "      <td>1.0</td>\n",
       "      <td>0.0</td>\n",
       "      <td>0.0</td>\n",
       "      <td>1.0</td>\n",
       "    </tr>\n",
       "    <tr>\n",
       "      <th>3</th>\n",
       "      <td>-0.375321</td>\n",
       "      <td>1.265390</td>\n",
       "      <td>-0.209517</td>\n",
       "      <td>-0.196536</td>\n",
       "      <td>-2.165713e-01</td>\n",
       "      <td>-0.196867</td>\n",
       "      <td>-0.188265</td>\n",
       "      <td>-0.224471</td>\n",
       "      <td>-0.234537</td>\n",
       "      <td>0.808863</td>\n",
       "      <td>1.0</td>\n",
       "      <td>0.0</td>\n",
       "      <td>0.0</td>\n",
       "      <td>0.0</td>\n",
       "      <td>1.0</td>\n",
       "    </tr>\n",
       "    <tr>\n",
       "      <th>4</th>\n",
       "      <td>-0.375321</td>\n",
       "      <td>-0.296490</td>\n",
       "      <td>-0.043911</td>\n",
       "      <td>-0.046841</td>\n",
       "      <td>-4.471397e-02</td>\n",
       "      <td>-0.075494</td>\n",
       "      <td>-0.038808</td>\n",
       "      <td>-0.018234</td>\n",
       "      <td>0.036993</td>\n",
       "      <td>-1.236304</td>\n",
       "      <td>1.0</td>\n",
       "      <td>0.0</td>\n",
       "      <td>0.0</td>\n",
       "      <td>0.0</td>\n",
       "      <td>1.0</td>\n",
       "    </tr>\n",
       "    <tr>\n",
       "      <th>...</th>\n",
       "      <td>...</td>\n",
       "      <td>...</td>\n",
       "      <td>...</td>\n",
       "      <td>...</td>\n",
       "      <td>...</td>\n",
       "      <td>...</td>\n",
       "      <td>...</td>\n",
       "      <td>...</td>\n",
       "      <td>...</td>\n",
       "      <td>...</td>\n",
       "      <td>...</td>\n",
       "      <td>...</td>\n",
       "      <td>...</td>\n",
       "      <td>...</td>\n",
       "      <td>...</td>\n",
       "    </tr>\n",
       "    <tr>\n",
       "      <th>5239</th>\n",
       "      <td>0.000000</td>\n",
       "      <td>-0.530772</td>\n",
       "      <td>-0.136147</td>\n",
       "      <td>-0.137391</td>\n",
       "      <td>3.476497e-17</td>\n",
       "      <td>-0.105921</td>\n",
       "      <td>-0.123337</td>\n",
       "      <td>-0.150815</td>\n",
       "      <td>0.000000</td>\n",
       "      <td>0.808863</td>\n",
       "      <td>0.0</td>\n",
       "      <td>1.0</td>\n",
       "      <td>0.0</td>\n",
       "      <td>0.0</td>\n",
       "      <td>1.0</td>\n",
       "    </tr>\n",
       "    <tr>\n",
       "      <th>5240</th>\n",
       "      <td>-0.375321</td>\n",
       "      <td>0.479764</td>\n",
       "      <td>-0.206489</td>\n",
       "      <td>-0.188162</td>\n",
       "      <td>-1.846156e-01</td>\n",
       "      <td>-0.201548</td>\n",
       "      <td>-0.181527</td>\n",
       "      <td>-0.244112</td>\n",
       "      <td>-0.229618</td>\n",
       "      <td>-1.236304</td>\n",
       "      <td>1.0</td>\n",
       "      <td>0.0</td>\n",
       "      <td>0.0</td>\n",
       "      <td>0.0</td>\n",
       "      <td>1.0</td>\n",
       "    </tr>\n",
       "    <tr>\n",
       "      <th>5241</th>\n",
       "      <td>-0.713176</td>\n",
       "      <td>-0.296490</td>\n",
       "      <td>-0.132653</td>\n",
       "      <td>-0.146812</td>\n",
       "      <td>-1.503665e-01</td>\n",
       "      <td>-0.116955</td>\n",
       "      <td>-0.112924</td>\n",
       "      <td>-0.098437</td>\n",
       "      <td>-0.118448</td>\n",
       "      <td>-1.236304</td>\n",
       "      <td>0.0</td>\n",
       "      <td>1.0</td>\n",
       "      <td>0.0</td>\n",
       "      <td>0.0</td>\n",
       "      <td>1.0</td>\n",
       "    </tr>\n",
       "    <tr>\n",
       "      <th>5242</th>\n",
       "      <td>-0.375321</td>\n",
       "      <td>-0.686960</td>\n",
       "      <td>0.145840</td>\n",
       "      <td>0.082965</td>\n",
       "      <td>1.263789e-01</td>\n",
       "      <td>0.111748</td>\n",
       "      <td>0.178640</td>\n",
       "      <td>0.284574</td>\n",
       "      <td>0.258349</td>\n",
       "      <td>-1.236304</td>\n",
       "      <td>0.0</td>\n",
       "      <td>1.0</td>\n",
       "      <td>0.0</td>\n",
       "      <td>0.0</td>\n",
       "      <td>1.0</td>\n",
       "    </tr>\n",
       "    <tr>\n",
       "      <th>5243</th>\n",
       "      <td>-0.375321</td>\n",
       "      <td>-0.491725</td>\n",
       "      <td>-0.231411</td>\n",
       "      <td>-0.214856</td>\n",
       "      <td>-2.338488e-01</td>\n",
       "      <td>-0.213919</td>\n",
       "      <td>-0.218279</td>\n",
       "      <td>-0.252296</td>\n",
       "      <td>-0.195185</td>\n",
       "      <td>0.808863</td>\n",
       "      <td>0.0</td>\n",
       "      <td>1.0</td>\n",
       "      <td>0.0</td>\n",
       "      <td>1.0</td>\n",
       "      <td>0.0</td>\n",
       "    </tr>\n",
       "  </tbody>\n",
       "</table>\n",
       "<p>5244 rows × 15 columns</p>\n",
       "</div>"
      ],
      "text/plain": [
       "        Rating  actprice1  norating1  noreviews1       star_5f   star_4f  \\\n",
       "0    -0.713176  -0.296490   1.936287    1.636973  1.938831e+00  1.222161   \n",
       "1    -0.375321  -0.686960   0.002051   -0.006015 -1.520466e-02  0.005756   \n",
       "2    -0.375321  -0.296490  -0.197172   -0.190255 -2.031163e-01 -0.190514   \n",
       "3    -0.375321   1.265390  -0.209517   -0.196536 -2.165713e-01 -0.196867   \n",
       "4    -0.375321  -0.296490  -0.043911   -0.046841 -4.471397e-02 -0.075494   \n",
       "...        ...        ...        ...         ...           ...       ...   \n",
       "5239  0.000000  -0.530772  -0.136147   -0.137391  3.476497e-17 -0.105921   \n",
       "5240 -0.375321   0.479764  -0.206489   -0.188162 -1.846156e-01 -0.201548   \n",
       "5241 -0.713176  -0.296490  -0.132653   -0.146812 -1.503665e-01 -0.116955   \n",
       "5242 -0.375321  -0.686960   0.145840    0.082965  1.263789e-01  0.111748   \n",
       "5243 -0.375321  -0.491725  -0.231411   -0.214856 -2.338488e-01 -0.213919   \n",
       "\n",
       "       star_3f   star_2f   star_1f  fulfilled1  maincateg_Men  \\\n",
       "0     1.899232  2.959104  3.645587    0.808863            1.0   \n",
       "1     0.024895  0.045601  0.049783    0.808863            0.0   \n",
       "2    -0.174789 -0.198282 -0.220764    0.808863            0.0   \n",
       "3    -0.188265 -0.224471 -0.234537    0.808863            1.0   \n",
       "4    -0.038808 -0.018234  0.036993   -1.236304            1.0   \n",
       "...        ...       ...       ...         ...            ...   \n",
       "5239 -0.123337 -0.150815  0.000000    0.808863            0.0   \n",
       "5240 -0.181527 -0.244112 -0.229618   -1.236304            1.0   \n",
       "5241 -0.112924 -0.098437 -0.118448   -1.236304            0.0   \n",
       "5242  0.178640  0.284574  0.258349   -1.236304            0.0   \n",
       "5243 -0.218279 -0.252296 -0.195185    0.808863            0.0   \n",
       "\n",
       "      maincateg_Women  maincateg_nan  platform_Amazon  platform_Flipkart  \n",
       "0                 0.0            0.0              0.0                1.0  \n",
       "1                 1.0            0.0              0.0                1.0  \n",
       "2                 1.0            0.0              0.0                1.0  \n",
       "3                 0.0            0.0              0.0                1.0  \n",
       "4                 0.0            0.0              0.0                1.0  \n",
       "...               ...            ...              ...                ...  \n",
       "5239              1.0            0.0              0.0                1.0  \n",
       "5240              0.0            0.0              0.0                1.0  \n",
       "5241              1.0            0.0              0.0                1.0  \n",
       "5242              1.0            0.0              0.0                1.0  \n",
       "5243              1.0            0.0              1.0                0.0  \n",
       "\n",
       "[5244 rows x 15 columns]"
      ]
     },
     "execution_count": 86,
     "metadata": {},
     "output_type": "execute_result"
    }
   ],
   "source": [
    "test_input"
   ]
  },
  {
   "cell_type": "markdown",
   "metadata": {},
   "source": [
    "### We can easily see that model by random forest has low error so we proceed with random forest algorithm"
   ]
  },
  {
   "cell_type": "code",
   "execution_count": 87,
   "metadata": {
    "execution": {
     "iopub.execute_input": "2022-07-09T17:50:53.100090Z",
     "iopub.status.busy": "2022-07-09T17:50:53.099231Z",
     "iopub.status.idle": "2022-07-09T17:50:53.230449Z",
     "shell.execute_reply": "2022-07-09T17:50:53.229346Z",
     "shell.execute_reply.started": "2022-07-09T17:50:53.100045Z"
    }
   },
   "outputs": [
    {
     "data": {
      "text/plain": [
       "array([383.71294009, 302.30806064, 457.66812547, ..., 404.38559931,\n",
       "       258.36333333, 749.78772727])"
      ]
     },
     "execution_count": 87,
     "metadata": {},
     "output_type": "execute_result"
    }
   ],
   "source": [
    "best_model.predict(test_input)"
   ]
  },
  {
   "cell_type": "code",
   "execution_count": 88,
   "metadata": {
    "execution": {
     "iopub.execute_input": "2022-07-09T17:50:53.232075Z",
     "iopub.status.busy": "2022-07-09T17:50:53.231783Z",
     "iopub.status.idle": "2022-07-09T17:50:53.362951Z",
     "shell.execute_reply": "2022-07-09T17:50:53.361858Z",
     "shell.execute_reply.started": "2022-07-09T17:50:53.232049Z"
    }
   },
   "outputs": [],
   "source": [
    "submission_df=pd.DataFrame({\"id\":test_df[\"id\"],\"price1\":best_model.predict(test_input)})"
   ]
  },
  {
   "cell_type": "code",
   "execution_count": 89,
   "metadata": {
    "execution": {
     "iopub.execute_input": "2022-07-09T17:50:53.364783Z",
     "iopub.status.busy": "2022-07-09T17:50:53.364478Z",
     "iopub.status.idle": "2022-07-09T17:50:53.376739Z",
     "shell.execute_reply": "2022-07-09T17:50:53.375690Z",
     "shell.execute_reply.started": "2022-07-09T17:50:53.364756Z"
    }
   },
   "outputs": [
    {
     "data": {
      "text/html": [
       "<div>\n",
       "<style scoped>\n",
       "    .dataframe tbody tr th:only-of-type {\n",
       "        vertical-align: middle;\n",
       "    }\n",
       "\n",
       "    .dataframe tbody tr th {\n",
       "        vertical-align: top;\n",
       "    }\n",
       "\n",
       "    .dataframe thead th {\n",
       "        text-align: right;\n",
       "    }\n",
       "</style>\n",
       "<table border=\"1\" class=\"dataframe\">\n",
       "  <thead>\n",
       "    <tr style=\"text-align: right;\">\n",
       "      <th></th>\n",
       "      <th>id</th>\n",
       "      <th>price1</th>\n",
       "    </tr>\n",
       "  </thead>\n",
       "  <tbody>\n",
       "    <tr>\n",
       "      <th>0</th>\n",
       "      <td>2242</td>\n",
       "      <td>383.712940</td>\n",
       "    </tr>\n",
       "    <tr>\n",
       "      <th>1</th>\n",
       "      <td>20532</td>\n",
       "      <td>302.308061</td>\n",
       "    </tr>\n",
       "    <tr>\n",
       "      <th>2</th>\n",
       "      <td>10648</td>\n",
       "      <td>457.668125</td>\n",
       "    </tr>\n",
       "    <tr>\n",
       "      <th>3</th>\n",
       "      <td>20677</td>\n",
       "      <td>1048.790000</td>\n",
       "    </tr>\n",
       "    <tr>\n",
       "      <th>4</th>\n",
       "      <td>12593</td>\n",
       "      <td>388.401809</td>\n",
       "    </tr>\n",
       "    <tr>\n",
       "      <th>...</th>\n",
       "      <td>...</td>\n",
       "      <td>...</td>\n",
       "    </tr>\n",
       "    <tr>\n",
       "      <th>5239</th>\n",
       "      <td>14033</td>\n",
       "      <td>415.339601</td>\n",
       "    </tr>\n",
       "    <tr>\n",
       "      <th>5240</th>\n",
       "      <td>297</td>\n",
       "      <td>667.540972</td>\n",
       "    </tr>\n",
       "    <tr>\n",
       "      <th>5241</th>\n",
       "      <td>18733</td>\n",
       "      <td>404.385599</td>\n",
       "    </tr>\n",
       "    <tr>\n",
       "      <th>5242</th>\n",
       "      <td>6162</td>\n",
       "      <td>258.363333</td>\n",
       "    </tr>\n",
       "    <tr>\n",
       "      <th>5243</th>\n",
       "      <td>13574</td>\n",
       "      <td>749.787727</td>\n",
       "    </tr>\n",
       "  </tbody>\n",
       "</table>\n",
       "<p>5244 rows × 2 columns</p>\n",
       "</div>"
      ],
      "text/plain": [
       "         id       price1\n",
       "0      2242   383.712940\n",
       "1     20532   302.308061\n",
       "2     10648   457.668125\n",
       "3     20677  1048.790000\n",
       "4     12593   388.401809\n",
       "...     ...          ...\n",
       "5239  14033   415.339601\n",
       "5240    297   667.540972\n",
       "5241  18733   404.385599\n",
       "5242   6162   258.363333\n",
       "5243  13574   749.787727\n",
       "\n",
       "[5244 rows x 2 columns]"
      ]
     },
     "execution_count": 89,
     "metadata": {},
     "output_type": "execute_result"
    }
   ],
   "source": [
    "submission_df"
   ]
  },
  {
   "cell_type": "code",
   "execution_count": 90,
   "metadata": {
    "execution": {
     "iopub.execute_input": "2022-07-09T17:50:53.378689Z",
     "iopub.status.busy": "2022-07-09T17:50:53.378254Z",
     "iopub.status.idle": "2022-07-09T17:50:53.402554Z",
     "shell.execute_reply": "2022-07-09T17:50:53.401634Z",
     "shell.execute_reply.started": "2022-07-09T17:50:53.378656Z"
    }
   },
   "outputs": [],
   "source": [
    "submission_df.to_csv(\"submission.csv\",index=False)"
   ]
  },
  {
   "cell_type": "code",
   "execution_count": 91,
   "metadata": {
    "execution": {
     "iopub.execute_input": "2022-07-09T17:50:53.404015Z",
     "iopub.status.busy": "2022-07-09T17:50:53.403713Z",
     "iopub.status.idle": "2022-07-09T17:50:53.421881Z",
     "shell.execute_reply": "2022-07-09T17:50:53.420788Z",
     "shell.execute_reply.started": "2022-07-09T17:50:53.403988Z"
    }
   },
   "outputs": [
    {
     "data": {
      "text/html": [
       "<div>\n",
       "<style scoped>\n",
       "    .dataframe tbody tr th:only-of-type {\n",
       "        vertical-align: middle;\n",
       "    }\n",
       "\n",
       "    .dataframe tbody tr th {\n",
       "        vertical-align: top;\n",
       "    }\n",
       "\n",
       "    .dataframe thead th {\n",
       "        text-align: right;\n",
       "    }\n",
       "</style>\n",
       "<table border=\"1\" class=\"dataframe\">\n",
       "  <thead>\n",
       "    <tr style=\"text-align: right;\">\n",
       "      <th></th>\n",
       "      <th>id</th>\n",
       "      <th>price1</th>\n",
       "    </tr>\n",
       "  </thead>\n",
       "  <tbody>\n",
       "    <tr>\n",
       "      <th>0</th>\n",
       "      <td>2242</td>\n",
       "      <td>383.712940</td>\n",
       "    </tr>\n",
       "    <tr>\n",
       "      <th>1</th>\n",
       "      <td>20532</td>\n",
       "      <td>302.308061</td>\n",
       "    </tr>\n",
       "    <tr>\n",
       "      <th>2</th>\n",
       "      <td>10648</td>\n",
       "      <td>457.668125</td>\n",
       "    </tr>\n",
       "    <tr>\n",
       "      <th>3</th>\n",
       "      <td>20677</td>\n",
       "      <td>1048.790000</td>\n",
       "    </tr>\n",
       "    <tr>\n",
       "      <th>4</th>\n",
       "      <td>12593</td>\n",
       "      <td>388.401809</td>\n",
       "    </tr>\n",
       "    <tr>\n",
       "      <th>...</th>\n",
       "      <td>...</td>\n",
       "      <td>...</td>\n",
       "    </tr>\n",
       "    <tr>\n",
       "      <th>5239</th>\n",
       "      <td>14033</td>\n",
       "      <td>415.339601</td>\n",
       "    </tr>\n",
       "    <tr>\n",
       "      <th>5240</th>\n",
       "      <td>297</td>\n",
       "      <td>667.540972</td>\n",
       "    </tr>\n",
       "    <tr>\n",
       "      <th>5241</th>\n",
       "      <td>18733</td>\n",
       "      <td>404.385599</td>\n",
       "    </tr>\n",
       "    <tr>\n",
       "      <th>5242</th>\n",
       "      <td>6162</td>\n",
       "      <td>258.363333</td>\n",
       "    </tr>\n",
       "    <tr>\n",
       "      <th>5243</th>\n",
       "      <td>13574</td>\n",
       "      <td>749.787727</td>\n",
       "    </tr>\n",
       "  </tbody>\n",
       "</table>\n",
       "<p>5244 rows × 2 columns</p>\n",
       "</div>"
      ],
      "text/plain": [
       "         id       price1\n",
       "0      2242   383.712940\n",
       "1     20532   302.308061\n",
       "2     10648   457.668125\n",
       "3     20677  1048.790000\n",
       "4     12593   388.401809\n",
       "...     ...          ...\n",
       "5239  14033   415.339601\n",
       "5240    297   667.540972\n",
       "5241  18733   404.385599\n",
       "5242   6162   258.363333\n",
       "5243  13574   749.787727\n",
       "\n",
       "[5244 rows x 2 columns]"
      ]
     },
     "execution_count": 91,
     "metadata": {},
     "output_type": "execute_result"
    }
   ],
   "source": [
    "pd.read_csv(\"submission.csv\")"
   ]
  },
  {
   "cell_type": "code",
   "execution_count": null,
   "metadata": {},
   "outputs": [],
   "source": []
  },
  {
   "cell_type": "code",
   "execution_count": null,
   "metadata": {},
   "outputs": [],
   "source": []
  }
 ],
 "metadata": {
  "kernelspec": {
   "display_name": "Python 3 (ipykernel)",
   "language": "python",
   "name": "python3"
  },
  "language_info": {
   "codemirror_mode": {
    "name": "ipython",
    "version": 3
   },
   "file_extension": ".py",
   "mimetype": "text/x-python",
   "name": "python",
   "nbconvert_exporter": "python",
   "pygments_lexer": "ipython3",
   "version": "3.9.12"
  }
 },
 "nbformat": 4,
 "nbformat_minor": 4
}
